{
  "nbformat": 4,
  "nbformat_minor": 0,
  "metadata": {
    "colab": {
      "name": "Chembl_tutorial.ipynb",
      "provenance": [],
      "collapsed_sections": [],
      "authorship_tag": "ABX9TyOA4QX85tfUGDBEokCKm9kK",
      "include_colab_link": true
    },
    "kernelspec": {
      "name": "python3",
      "display_name": "Python 3"
    },
    "language_info": {
      "name": "python"
    }
  },
  "cells": [
    {
      "cell_type": "markdown",
      "metadata": {
        "id": "view-in-github",
        "colab_type": "text"
      },
      "source": [
        "<a href=\"https://colab.research.google.com/github/jinwoo3239/Deepchem/blob/main/Chembl_tutorial.ipynb\" target=\"_parent\"><img src=\"https://colab.research.google.com/assets/colab-badge.svg\" alt=\"Open In Colab\"/></a>"
      ]
    },
    {
      "cell_type": "markdown",
      "source": [
        "# Chembl tutorial\n",
        "\n",
        "- ref1, [TeachOpenCADD](https://projects.volkamerlab.org/teachopencadd/all_talktorials.html)\n",
        "- ref2, [github](https://github.com/StillWork/AIDD-2208-add/blob/main/c_83_4_ChEMBL_Data.ipynb)\n"
      ],
      "metadata": {
        "id": "OMi8h2kelqm4"
      }
    },
    {
      "cell_type": "code",
      "source": [
        "!pip install deepchem\n",
        "!pip install chembl_webresource_client"
      ],
      "metadata": {
        "id": "SbVj3_3fl-BV",
        "outputId": "6af665c3-5c63-4644-cd58-eca0dd1e2125",
        "colab": {
          "base_uri": "https://localhost:8080/"
        }
      },
      "execution_count": 65,
      "outputs": [
        {
          "output_type": "stream",
          "name": "stdout",
          "text": [
            "Looking in indexes: https://pypi.org/simple, https://us-python.pkg.dev/colab-wheels/public/simple/\n",
            "Requirement already satisfied: deepchem in /usr/local/lib/python3.7/dist-packages (2.6.1)\n",
            "Requirement already satisfied: numpy>=1.21 in /usr/local/lib/python3.7/dist-packages (from deepchem) (1.21.6)\n",
            "Requirement already satisfied: scikit-learn in /usr/local/lib/python3.7/dist-packages (from deepchem) (1.0.2)\n",
            "Requirement already satisfied: rdkit-pypi in /usr/local/lib/python3.7/dist-packages (from deepchem) (2022.3.5)\n",
            "Requirement already satisfied: scipy in /usr/local/lib/python3.7/dist-packages (from deepchem) (1.7.3)\n",
            "Requirement already satisfied: pandas in /usr/local/lib/python3.7/dist-packages (from deepchem) (1.3.5)\n",
            "Requirement already satisfied: joblib in /usr/local/lib/python3.7/dist-packages (from deepchem) (1.1.0)\n",
            "Requirement already satisfied: pytz>=2017.3 in /usr/local/lib/python3.7/dist-packages (from pandas->deepchem) (2022.2.1)\n",
            "Requirement already satisfied: python-dateutil>=2.7.3 in /usr/local/lib/python3.7/dist-packages (from pandas->deepchem) (2.8.2)\n",
            "Requirement already satisfied: six>=1.5 in /usr/local/lib/python3.7/dist-packages (from python-dateutil>=2.7.3->pandas->deepchem) (1.15.0)\n",
            "Requirement already satisfied: Pillow in /usr/local/lib/python3.7/dist-packages (from rdkit-pypi->deepchem) (7.1.2)\n",
            "Requirement already satisfied: threadpoolctl>=2.0.0 in /usr/local/lib/python3.7/dist-packages (from scikit-learn->deepchem) (3.1.0)\n",
            "Looking in indexes: https://pypi.org/simple, https://us-python.pkg.dev/colab-wheels/public/simple/\n",
            "Requirement already satisfied: chembl_webresource_client in /usr/local/lib/python3.7/dist-packages (0.10.8)\n",
            "Requirement already satisfied: urllib3 in /usr/local/lib/python3.7/dist-packages (from chembl_webresource_client) (1.24.3)\n",
            "Requirement already satisfied: easydict in /usr/local/lib/python3.7/dist-packages (from chembl_webresource_client) (1.9)\n",
            "Requirement already satisfied: requests-cache~=0.7.0 in /usr/local/lib/python3.7/dist-packages (from chembl_webresource_client) (0.7.5)\n",
            "Requirement already satisfied: requests>=2.18.4 in /usr/local/lib/python3.7/dist-packages (from chembl_webresource_client) (2.23.0)\n",
            "Requirement already satisfied: chardet<4,>=3.0.2 in /usr/local/lib/python3.7/dist-packages (from requests>=2.18.4->chembl_webresource_client) (3.0.4)\n",
            "Requirement already satisfied: certifi>=2017.4.17 in /usr/local/lib/python3.7/dist-packages (from requests>=2.18.4->chembl_webresource_client) (2022.6.15)\n",
            "Requirement already satisfied: idna<3,>=2.5 in /usr/local/lib/python3.7/dist-packages (from requests>=2.18.4->chembl_webresource_client) (2.10)\n",
            "Requirement already satisfied: pyyaml>=5.4 in /usr/local/lib/python3.7/dist-packages (from requests-cache~=0.7.0->chembl_webresource_client) (6.0)\n",
            "Requirement already satisfied: attrs<22.0,>=21.2 in /usr/local/lib/python3.7/dist-packages (from requests-cache~=0.7.0->chembl_webresource_client) (21.4.0)\n",
            "Requirement already satisfied: url-normalize<2.0,>=1.4 in /usr/local/lib/python3.7/dist-packages (from requests-cache~=0.7.0->chembl_webresource_client) (1.4.3)\n",
            "Requirement already satisfied: itsdangerous>=2.0.1 in /usr/local/lib/python3.7/dist-packages (from requests-cache~=0.7.0->chembl_webresource_client) (2.1.2)\n",
            "Requirement already satisfied: six in /usr/local/lib/python3.7/dist-packages (from url-normalize<2.0,>=1.4->requests-cache~=0.7.0->chembl_webresource_client) (1.15.0)\n"
          ]
        }
      ]
    },
    {
      "cell_type": "code",
      "source": [
        "import os\n",
        "\n",
        "import numpy as np\n",
        "import pandas as pd\n",
        "import matplotlib.pyplot as plt\n",
        "import seaborn as sns\n",
        "\n",
        "import rdkit\n",
        "from rdkit import Chem\n",
        "from rdkit.Chem import AllChem, Draw, Descriptors, rdMolDescriptors, PandasTools\n",
        "from rdkit.Chem.Draw import IPythonConsole\n",
        "\n",
        "from rdkit.Chem.FilterCatalog import FilterCatalog, FilterCatalogParams\n",
        "\n",
        "from rdkit.Chem import MACCSkeys\n",
        "from rdkit.Chem.AllChem import GetMorganFingerprint, GetMorganFingerprintAsBitVect\n",
        "\n",
        "from rdkit import DataStructs\n",
        "\n",
        "\n",
        "import deepchem as dc\n",
        "from chembl_webresource_client.new_client import new_client\n",
        "\n",
        "plt.rc('font', family='calibri')"
      ],
      "metadata": {
        "id": "IYFD6wKsmA5U"
      },
      "execution_count": 127,
      "outputs": []
    },
    {
      "cell_type": "code",
      "source": [
        "print(f'deepchem version = {dc.__version__}')"
      ],
      "metadata": {
        "colab": {
          "base_uri": "https://localhost:8080/"
        },
        "id": "d8vGjZZvmeV6",
        "outputId": "5e69aba0-77e0-449a-e839-86126ed8d8eb"
      },
      "execution_count": 4,
      "outputs": [
        {
          "output_type": "stream",
          "name": "stdout",
          "text": [
            "deepchem version = 2.6.1\n"
          ]
        }
      ]
    },
    {
      "cell_type": "code",
      "source": [
        "target_api = new_client.target # Finding target... target_chembl_id\n",
        "compound_api = new_client.molecule\n",
        "activity_api = new_client.activity"
      ],
      "metadata": {
        "id": "lpnKhvgampsf"
      },
      "execution_count": 5,
      "outputs": []
    },
    {
      "cell_type": "markdown",
      "source": [
        "## Target search\n",
        "- selection of `target_chembl_id`"
      ],
      "metadata": {
        "id": "VMFXS3Q71Rmr"
      }
    },
    {
      "cell_type": "code",
      "source": [
        "target_query = target_api.search('coronavirus')\n",
        "targets = pd.DataFrame.from_dict(target_query)\n",
        "targets[:2]\n",
        "# selecting target chembl_id\n",
        "\n",
        "# uniprot_id = 'P00533'\n",
        "# target_query = target_api.get(target_components__accession=uniprot_id)\n",
        "# targets = pd.DataFrame.from_dict(target_query)\n",
        "# targets"
      ],
      "metadata": {
        "colab": {
          "base_uri": "https://localhost:8080/",
          "height": 173
        },
        "id": "KFHJJtocnZcy",
        "outputId": "f075e7ce-9933-4983-cef6-f96f73f91056"
      },
      "execution_count": 6,
      "outputs": [
        {
          "output_type": "execute_result",
          "data": {
            "text/plain": [
              "  cross_references          organism         pref_name  score  \\\n",
              "0               []       Coronavirus       Coronavirus   17.0   \n",
              "1               []  SARS coronavirus  SARS coronavirus   15.0   \n",
              "\n",
              "   species_group_flag target_chembl_id target_components target_type  tax_id  \n",
              "0               False     CHEMBL613732                []    ORGANISM   11119  \n",
              "1               False     CHEMBL612575                []    ORGANISM  227859  "
            ],
            "text/html": [
              "\n",
              "  <div id=\"df-9cc3a806-a0ad-4ebd-8f6c-1d3d76c43d6d\">\n",
              "    <div class=\"colab-df-container\">\n",
              "      <div>\n",
              "<style scoped>\n",
              "    .dataframe tbody tr th:only-of-type {\n",
              "        vertical-align: middle;\n",
              "    }\n",
              "\n",
              "    .dataframe tbody tr th {\n",
              "        vertical-align: top;\n",
              "    }\n",
              "\n",
              "    .dataframe thead th {\n",
              "        text-align: right;\n",
              "    }\n",
              "</style>\n",
              "<table border=\"1\" class=\"dataframe\">\n",
              "  <thead>\n",
              "    <tr style=\"text-align: right;\">\n",
              "      <th></th>\n",
              "      <th>cross_references</th>\n",
              "      <th>organism</th>\n",
              "      <th>pref_name</th>\n",
              "      <th>score</th>\n",
              "      <th>species_group_flag</th>\n",
              "      <th>target_chembl_id</th>\n",
              "      <th>target_components</th>\n",
              "      <th>target_type</th>\n",
              "      <th>tax_id</th>\n",
              "    </tr>\n",
              "  </thead>\n",
              "  <tbody>\n",
              "    <tr>\n",
              "      <th>0</th>\n",
              "      <td>[]</td>\n",
              "      <td>Coronavirus</td>\n",
              "      <td>Coronavirus</td>\n",
              "      <td>17.0</td>\n",
              "      <td>False</td>\n",
              "      <td>CHEMBL613732</td>\n",
              "      <td>[]</td>\n",
              "      <td>ORGANISM</td>\n",
              "      <td>11119</td>\n",
              "    </tr>\n",
              "    <tr>\n",
              "      <th>1</th>\n",
              "      <td>[]</td>\n",
              "      <td>SARS coronavirus</td>\n",
              "      <td>SARS coronavirus</td>\n",
              "      <td>15.0</td>\n",
              "      <td>False</td>\n",
              "      <td>CHEMBL612575</td>\n",
              "      <td>[]</td>\n",
              "      <td>ORGANISM</td>\n",
              "      <td>227859</td>\n",
              "    </tr>\n",
              "  </tbody>\n",
              "</table>\n",
              "</div>\n",
              "      <button class=\"colab-df-convert\" onclick=\"convertToInteractive('df-9cc3a806-a0ad-4ebd-8f6c-1d3d76c43d6d')\"\n",
              "              title=\"Convert this dataframe to an interactive table.\"\n",
              "              style=\"display:none;\">\n",
              "        \n",
              "  <svg xmlns=\"http://www.w3.org/2000/svg\" height=\"24px\"viewBox=\"0 0 24 24\"\n",
              "       width=\"24px\">\n",
              "    <path d=\"M0 0h24v24H0V0z\" fill=\"none\"/>\n",
              "    <path d=\"M18.56 5.44l.94 2.06.94-2.06 2.06-.94-2.06-.94-.94-2.06-.94 2.06-2.06.94zm-11 1L8.5 8.5l.94-2.06 2.06-.94-2.06-.94L8.5 2.5l-.94 2.06-2.06.94zm10 10l.94 2.06.94-2.06 2.06-.94-2.06-.94-.94-2.06-.94 2.06-2.06.94z\"/><path d=\"M17.41 7.96l-1.37-1.37c-.4-.4-.92-.59-1.43-.59-.52 0-1.04.2-1.43.59L10.3 9.45l-7.72 7.72c-.78.78-.78 2.05 0 2.83L4 21.41c.39.39.9.59 1.41.59.51 0 1.02-.2 1.41-.59l7.78-7.78 2.81-2.81c.8-.78.8-2.07 0-2.86zM5.41 20L4 18.59l7.72-7.72 1.47 1.35L5.41 20z\"/>\n",
              "  </svg>\n",
              "      </button>\n",
              "      \n",
              "  <style>\n",
              "    .colab-df-container {\n",
              "      display:flex;\n",
              "      flex-wrap:wrap;\n",
              "      gap: 12px;\n",
              "    }\n",
              "\n",
              "    .colab-df-convert {\n",
              "      background-color: #E8F0FE;\n",
              "      border: none;\n",
              "      border-radius: 50%;\n",
              "      cursor: pointer;\n",
              "      display: none;\n",
              "      fill: #1967D2;\n",
              "      height: 32px;\n",
              "      padding: 0 0 0 0;\n",
              "      width: 32px;\n",
              "    }\n",
              "\n",
              "    .colab-df-convert:hover {\n",
              "      background-color: #E2EBFA;\n",
              "      box-shadow: 0px 1px 2px rgba(60, 64, 67, 0.3), 0px 1px 3px 1px rgba(60, 64, 67, 0.15);\n",
              "      fill: #174EA6;\n",
              "    }\n",
              "\n",
              "    [theme=dark] .colab-df-convert {\n",
              "      background-color: #3B4455;\n",
              "      fill: #D2E3FC;\n",
              "    }\n",
              "\n",
              "    [theme=dark] .colab-df-convert:hover {\n",
              "      background-color: #434B5C;\n",
              "      box-shadow: 0px 1px 3px 1px rgba(0, 0, 0, 0.15);\n",
              "      filter: drop-shadow(0px 1px 2px rgba(0, 0, 0, 0.3));\n",
              "      fill: #FFFFFF;\n",
              "    }\n",
              "  </style>\n",
              "\n",
              "      <script>\n",
              "        const buttonEl =\n",
              "          document.querySelector('#df-9cc3a806-a0ad-4ebd-8f6c-1d3d76c43d6d button.colab-df-convert');\n",
              "        buttonEl.style.display =\n",
              "          google.colab.kernel.accessAllowed ? 'block' : 'none';\n",
              "\n",
              "        async function convertToInteractive(key) {\n",
              "          const element = document.querySelector('#df-9cc3a806-a0ad-4ebd-8f6c-1d3d76c43d6d');\n",
              "          const dataTable =\n",
              "            await google.colab.kernel.invokeFunction('convertToInteractive',\n",
              "                                                     [key], {});\n",
              "          if (!dataTable) return;\n",
              "\n",
              "          const docLinkHtml = 'Like what you see? Visit the ' +\n",
              "            '<a target=\"_blank\" href=https://colab.research.google.com/notebooks/data_table.ipynb>data table notebook</a>'\n",
              "            + ' to learn more about interactive tables.';\n",
              "          element.innerHTML = '';\n",
              "          dataTable['output_type'] = 'display_data';\n",
              "          await google.colab.output.renderOutput(dataTable, element);\n",
              "          const docLink = document.createElement('div');\n",
              "          docLink.innerHTML = docLinkHtml;\n",
              "          element.appendChild(docLink);\n",
              "        }\n",
              "      </script>\n",
              "    </div>\n",
              "  </div>\n",
              "  "
            ]
          },
          "metadata": {},
          "execution_count": 6
        }
      ]
    },
    {
      "cell_type": "code",
      "source": [
        "target_chembl_id = 'CHEMBL3927'\n",
        "\n",
        "activities = activity_api.filter(target_chembl_id=target_chembl_id,\n",
        "                               standard_type='IC50',\n",
        "                               standard_relation='=')\n",
        "\n",
        "data = pd.DataFrame.from_dict(activities)\n",
        "data.head(3)"
      ],
      "metadata": {
        "id": "HJTXY1ufnxU0",
        "colab": {
          "base_uri": "https://localhost:8080/",
          "height": 341
        },
        "outputId": "d1090312-fedf-4a7b-d265-b62bc1a1285c"
      },
      "execution_count": 30,
      "outputs": [
        {
          "output_type": "execute_result",
          "data": {
            "text/plain": [
              "  activity_comment  activity_id activity_properties assay_chembl_id  \\\n",
              "0             None      1480935                  []    CHEMBL829584   \n",
              "1             None      1480936                  []    CHEMBL829584   \n",
              "2             None      1481061                  []    CHEMBL830868   \n",
              "\n",
              "                                   assay_description assay_type  \\\n",
              "0  In vitro inhibitory concentration against SARS...          B   \n",
              "1  In vitro inhibitory concentration against SARS...          B   \n",
              "2  In vitro inhibitory concentration against SARS...          B   \n",
              "\n",
              "  assay_variant_accession assay_variant_mutation bao_endpoint   bao_format  \\\n",
              "0                    None                   None  BAO_0000190  BAO_0000357   \n",
              "1                    None                   None  BAO_0000190  BAO_0000357   \n",
              "2                    None                   None  BAO_0000190  BAO_0000357   \n",
              "\n",
              "   ...   target_organism                     target_pref_name target_tax_id  \\\n",
              "0  ...  SARS coronavirus  SARS coronavirus 3C-like proteinase        227859   \n",
              "1  ...  SARS coronavirus  SARS coronavirus 3C-like proteinase        227859   \n",
              "2  ...  SARS coronavirus  SARS coronavirus 3C-like proteinase        227859   \n",
              "\n",
              "  text_value  toid  type  units    uo_units upper_value value  \n",
              "0       None  None  IC50     uM  UO_0000065        None   7.2  \n",
              "1       None  None  IC50     uM  UO_0000065        None   9.4  \n",
              "2       None  None  IC50     uM  UO_0000065        None  13.5  \n",
              "\n",
              "[3 rows x 45 columns]"
            ],
            "text/html": [
              "\n",
              "  <div id=\"df-879a1214-73e0-4a69-ad7f-98f5b091888c\">\n",
              "    <div class=\"colab-df-container\">\n",
              "      <div>\n",
              "<style scoped>\n",
              "    .dataframe tbody tr th:only-of-type {\n",
              "        vertical-align: middle;\n",
              "    }\n",
              "\n",
              "    .dataframe tbody tr th {\n",
              "        vertical-align: top;\n",
              "    }\n",
              "\n",
              "    .dataframe thead th {\n",
              "        text-align: right;\n",
              "    }\n",
              "</style>\n",
              "<table border=\"1\" class=\"dataframe\">\n",
              "  <thead>\n",
              "    <tr style=\"text-align: right;\">\n",
              "      <th></th>\n",
              "      <th>activity_comment</th>\n",
              "      <th>activity_id</th>\n",
              "      <th>activity_properties</th>\n",
              "      <th>assay_chembl_id</th>\n",
              "      <th>assay_description</th>\n",
              "      <th>assay_type</th>\n",
              "      <th>assay_variant_accession</th>\n",
              "      <th>assay_variant_mutation</th>\n",
              "      <th>bao_endpoint</th>\n",
              "      <th>bao_format</th>\n",
              "      <th>...</th>\n",
              "      <th>target_organism</th>\n",
              "      <th>target_pref_name</th>\n",
              "      <th>target_tax_id</th>\n",
              "      <th>text_value</th>\n",
              "      <th>toid</th>\n",
              "      <th>type</th>\n",
              "      <th>units</th>\n",
              "      <th>uo_units</th>\n",
              "      <th>upper_value</th>\n",
              "      <th>value</th>\n",
              "    </tr>\n",
              "  </thead>\n",
              "  <tbody>\n",
              "    <tr>\n",
              "      <th>0</th>\n",
              "      <td>None</td>\n",
              "      <td>1480935</td>\n",
              "      <td>[]</td>\n",
              "      <td>CHEMBL829584</td>\n",
              "      <td>In vitro inhibitory concentration against SARS...</td>\n",
              "      <td>B</td>\n",
              "      <td>None</td>\n",
              "      <td>None</td>\n",
              "      <td>BAO_0000190</td>\n",
              "      <td>BAO_0000357</td>\n",
              "      <td>...</td>\n",
              "      <td>SARS coronavirus</td>\n",
              "      <td>SARS coronavirus 3C-like proteinase</td>\n",
              "      <td>227859</td>\n",
              "      <td>None</td>\n",
              "      <td>None</td>\n",
              "      <td>IC50</td>\n",
              "      <td>uM</td>\n",
              "      <td>UO_0000065</td>\n",
              "      <td>None</td>\n",
              "      <td>7.2</td>\n",
              "    </tr>\n",
              "    <tr>\n",
              "      <th>1</th>\n",
              "      <td>None</td>\n",
              "      <td>1480936</td>\n",
              "      <td>[]</td>\n",
              "      <td>CHEMBL829584</td>\n",
              "      <td>In vitro inhibitory concentration against SARS...</td>\n",
              "      <td>B</td>\n",
              "      <td>None</td>\n",
              "      <td>None</td>\n",
              "      <td>BAO_0000190</td>\n",
              "      <td>BAO_0000357</td>\n",
              "      <td>...</td>\n",
              "      <td>SARS coronavirus</td>\n",
              "      <td>SARS coronavirus 3C-like proteinase</td>\n",
              "      <td>227859</td>\n",
              "      <td>None</td>\n",
              "      <td>None</td>\n",
              "      <td>IC50</td>\n",
              "      <td>uM</td>\n",
              "      <td>UO_0000065</td>\n",
              "      <td>None</td>\n",
              "      <td>9.4</td>\n",
              "    </tr>\n",
              "    <tr>\n",
              "      <th>2</th>\n",
              "      <td>None</td>\n",
              "      <td>1481061</td>\n",
              "      <td>[]</td>\n",
              "      <td>CHEMBL830868</td>\n",
              "      <td>In vitro inhibitory concentration against SARS...</td>\n",
              "      <td>B</td>\n",
              "      <td>None</td>\n",
              "      <td>None</td>\n",
              "      <td>BAO_0000190</td>\n",
              "      <td>BAO_0000357</td>\n",
              "      <td>...</td>\n",
              "      <td>SARS coronavirus</td>\n",
              "      <td>SARS coronavirus 3C-like proteinase</td>\n",
              "      <td>227859</td>\n",
              "      <td>None</td>\n",
              "      <td>None</td>\n",
              "      <td>IC50</td>\n",
              "      <td>uM</td>\n",
              "      <td>UO_0000065</td>\n",
              "      <td>None</td>\n",
              "      <td>13.5</td>\n",
              "    </tr>\n",
              "  </tbody>\n",
              "</table>\n",
              "<p>3 rows × 45 columns</p>\n",
              "</div>\n",
              "      <button class=\"colab-df-convert\" onclick=\"convertToInteractive('df-879a1214-73e0-4a69-ad7f-98f5b091888c')\"\n",
              "              title=\"Convert this dataframe to an interactive table.\"\n",
              "              style=\"display:none;\">\n",
              "        \n",
              "  <svg xmlns=\"http://www.w3.org/2000/svg\" height=\"24px\"viewBox=\"0 0 24 24\"\n",
              "       width=\"24px\">\n",
              "    <path d=\"M0 0h24v24H0V0z\" fill=\"none\"/>\n",
              "    <path d=\"M18.56 5.44l.94 2.06.94-2.06 2.06-.94-2.06-.94-.94-2.06-.94 2.06-2.06.94zm-11 1L8.5 8.5l.94-2.06 2.06-.94-2.06-.94L8.5 2.5l-.94 2.06-2.06.94zm10 10l.94 2.06.94-2.06 2.06-.94-2.06-.94-.94-2.06-.94 2.06-2.06.94z\"/><path d=\"M17.41 7.96l-1.37-1.37c-.4-.4-.92-.59-1.43-.59-.52 0-1.04.2-1.43.59L10.3 9.45l-7.72 7.72c-.78.78-.78 2.05 0 2.83L4 21.41c.39.39.9.59 1.41.59.51 0 1.02-.2 1.41-.59l7.78-7.78 2.81-2.81c.8-.78.8-2.07 0-2.86zM5.41 20L4 18.59l7.72-7.72 1.47 1.35L5.41 20z\"/>\n",
              "  </svg>\n",
              "      </button>\n",
              "      \n",
              "  <style>\n",
              "    .colab-df-container {\n",
              "      display:flex;\n",
              "      flex-wrap:wrap;\n",
              "      gap: 12px;\n",
              "    }\n",
              "\n",
              "    .colab-df-convert {\n",
              "      background-color: #E8F0FE;\n",
              "      border: none;\n",
              "      border-radius: 50%;\n",
              "      cursor: pointer;\n",
              "      display: none;\n",
              "      fill: #1967D2;\n",
              "      height: 32px;\n",
              "      padding: 0 0 0 0;\n",
              "      width: 32px;\n",
              "    }\n",
              "\n",
              "    .colab-df-convert:hover {\n",
              "      background-color: #E2EBFA;\n",
              "      box-shadow: 0px 1px 2px rgba(60, 64, 67, 0.3), 0px 1px 3px 1px rgba(60, 64, 67, 0.15);\n",
              "      fill: #174EA6;\n",
              "    }\n",
              "\n",
              "    [theme=dark] .colab-df-convert {\n",
              "      background-color: #3B4455;\n",
              "      fill: #D2E3FC;\n",
              "    }\n",
              "\n",
              "    [theme=dark] .colab-df-convert:hover {\n",
              "      background-color: #434B5C;\n",
              "      box-shadow: 0px 1px 3px 1px rgba(0, 0, 0, 0.15);\n",
              "      filter: drop-shadow(0px 1px 2px rgba(0, 0, 0, 0.3));\n",
              "      fill: #FFFFFF;\n",
              "    }\n",
              "  </style>\n",
              "\n",
              "      <script>\n",
              "        const buttonEl =\n",
              "          document.querySelector('#df-879a1214-73e0-4a69-ad7f-98f5b091888c button.colab-df-convert');\n",
              "        buttonEl.style.display =\n",
              "          google.colab.kernel.accessAllowed ? 'block' : 'none';\n",
              "\n",
              "        async function convertToInteractive(key) {\n",
              "          const element = document.querySelector('#df-879a1214-73e0-4a69-ad7f-98f5b091888c');\n",
              "          const dataTable =\n",
              "            await google.colab.kernel.invokeFunction('convertToInteractive',\n",
              "                                                     [key], {});\n",
              "          if (!dataTable) return;\n",
              "\n",
              "          const docLinkHtml = 'Like what you see? Visit the ' +\n",
              "            '<a target=\"_blank\" href=https://colab.research.google.com/notebooks/data_table.ipynb>data table notebook</a>'\n",
              "            + ' to learn more about interactive tables.';\n",
              "          element.innerHTML = '';\n",
              "          dataTable['output_type'] = 'display_data';\n",
              "          await google.colab.output.renderOutput(dataTable, element);\n",
              "          const docLink = document.createElement('div');\n",
              "          docLink.innerHTML = docLinkHtml;\n",
              "          element.appendChild(docLink);\n",
              "        }\n",
              "      </script>\n",
              "    </div>\n",
              "  </div>\n",
              "  "
            ]
          },
          "metadata": {},
          "execution_count": 30
        }
      ]
    },
    {
      "cell_type": "code",
      "source": [
        "data.columns\n",
        "\n",
        "# We should check the chembl_id by using compound_api"
      ],
      "metadata": {
        "id": "4ho9dapMNKzT",
        "outputId": "d4bfb3c0-1470-48a7-8b7e-7ce09f5a6cb2",
        "colab": {
          "base_uri": "https://localhost:8080/"
        }
      },
      "execution_count": 31,
      "outputs": [
        {
          "output_type": "execute_result",
          "data": {
            "text/plain": [
              "Index(['activity_comment', 'activity_id', 'activity_properties',\n",
              "       'assay_chembl_id', 'assay_description', 'assay_type',\n",
              "       'assay_variant_accession', 'assay_variant_mutation', 'bao_endpoint',\n",
              "       'bao_format', 'bao_label', 'canonical_smiles', 'data_validity_comment',\n",
              "       'data_validity_description', 'document_chembl_id', 'document_journal',\n",
              "       'document_year', 'ligand_efficiency', 'molecule_chembl_id',\n",
              "       'molecule_pref_name', 'parent_molecule_chembl_id', 'pchembl_value',\n",
              "       'potential_duplicate', 'qudt_units', 'record_id', 'relation', 'src_id',\n",
              "       'standard_flag', 'standard_relation', 'standard_text_value',\n",
              "       'standard_type', 'standard_units', 'standard_upper_value',\n",
              "       'standard_value', 'target_chembl_id', 'target_organism',\n",
              "       'target_pref_name', 'target_tax_id', 'text_value', 'toid', 'type',\n",
              "       'units', 'uo_units', 'upper_value', 'value'],\n",
              "      dtype='object')"
            ]
          },
          "metadata": {},
          "execution_count": 31
        }
      ]
    },
    {
      "cell_type": "code",
      "source": [
        "## EDA\n",
        "\n",
        "data.isnull().sum()\n",
        "columns = ['assay_chembl_id', 'assay_type', 'canonical_smiles',\n",
        "           'standard_relation', 'standard_value', 'standard_units', 'molecule_chembl_id']\n",
        "\n",
        "data = data[columns]\n",
        "data.shape"
      ],
      "metadata": {
        "colab": {
          "base_uri": "https://localhost:8080/"
        },
        "id": "WTdr_k901ptN",
        "outputId": "e033255a-c79f-4e37-9714-a6d79b1b547e"
      },
      "execution_count": 32,
      "outputs": [
        {
          "output_type": "execute_result",
          "data": {
            "text/plain": [
              "(131, 7)"
            ]
          },
          "metadata": {},
          "execution_count": 32
        }
      ]
    },
    {
      "cell_type": "code",
      "source": [
        "data.standard_units.value_counts()"
      ],
      "metadata": {
        "colab": {
          "base_uri": "https://localhost:8080/"
        },
        "id": "FlqPQy9N23wO",
        "outputId": "98cf3ed4-ed0b-4944-cf8f-e05fed565fc4"
      },
      "execution_count": 33,
      "outputs": [
        {
          "output_type": "execute_result",
          "data": {
            "text/plain": [
              "nM    131\n",
              "Name: standard_units, dtype: int64"
            ]
          },
          "metadata": {},
          "execution_count": 33
        }
      ]
    },
    {
      "cell_type": "code",
      "source": [
        "data.info()"
      ],
      "metadata": {
        "colab": {
          "base_uri": "https://localhost:8080/"
        },
        "id": "qLftv5Hb4RUx",
        "outputId": "607ac1a7-ed58-4ea6-e4d2-3b0c5b2a8cc1"
      },
      "execution_count": 34,
      "outputs": [
        {
          "output_type": "stream",
          "name": "stdout",
          "text": [
            "<class 'pandas.core.frame.DataFrame'>\n",
            "RangeIndex: 131 entries, 0 to 130\n",
            "Data columns (total 7 columns):\n",
            " #   Column              Non-Null Count  Dtype \n",
            "---  ------              --------------  ----- \n",
            " 0   assay_chembl_id     131 non-null    object\n",
            " 1   assay_type          131 non-null    object\n",
            " 2   canonical_smiles    131 non-null    object\n",
            " 3   standard_relation   131 non-null    object\n",
            " 4   standard_value      131 non-null    object\n",
            " 5   standard_units      131 non-null    object\n",
            " 6   molecule_chembl_id  131 non-null    object\n",
            "dtypes: object(7)\n",
            "memory usage: 7.3+ KB\n"
          ]
        }
      ]
    },
    {
      "cell_type": "code",
      "source": [
        "data = data.astype({'standard_value' : 'float32'})"
      ],
      "metadata": {
        "id": "RuubEeAh4m3J"
      },
      "execution_count": 35,
      "outputs": []
    },
    {
      "cell_type": "code",
      "source": [
        "data.shape"
      ],
      "metadata": {
        "colab": {
          "base_uri": "https://localhost:8080/"
        },
        "id": "n8g9NJvK4vOJ",
        "outputId": "140fb1e2-2a80-46f3-eef5-c8cfbfca6ba8"
      },
      "execution_count": 36,
      "outputs": [
        {
          "output_type": "execute_result",
          "data": {
            "text/plain": [
              "(131, 7)"
            ]
          },
          "metadata": {},
          "execution_count": 36
        }
      ]
    },
    {
      "cell_type": "markdown",
      "source": [
        "**Add pIC50 values**  \n",
        "As you can see the low IC50 values are difficult to read (values are distributed over multiple scales), which is why we convert the IC50 values to pIC50."
      ],
      "metadata": {
        "id": "_n5GYoaa5ZMl"
      }
    },
    {
      "cell_type": "code",
      "source": [
        "def pIC50_converter(IC50):\n",
        "    # unit = nM\n",
        "    if IC50 > 1e9:\n",
        "        IC50 = 1e9\n",
        "    pIC50 = 9 - np.log10(IC50)\n",
        "    return pIC50\n",
        "\n",
        "def activity_converter(pIC50):\n",
        "    if pIC50 <= 5:\n",
        "        return 'inactive'\n",
        "\n",
        "    elif pIC50 > 6:\n",
        "        return 'active'\n",
        "    \n",
        "    else:\n",
        "        return 'intermediated'\n",
        "\n",
        "data['pIC50'] = data.standard_value.apply(pIC50_converter)\n",
        "data['activity'] = data.pIC50.apply(activity_converter)"
      ],
      "metadata": {
        "id": "wf3kLJRN6_33"
      },
      "execution_count": 37,
      "outputs": []
    },
    {
      "cell_type": "code",
      "source": [
        "# lipinski rules\n",
        "# Mw <= 500, HBA <= 10, HBD <=5, logp <= 5,\n",
        "# Linpinski rules are satisfied more than 3\n",
        "\n",
        "def lipinski_rules_df(smiles):\n",
        "    \n",
        "    mol = Chem.MolFromSmiles(smiles)\n",
        "\n",
        "    Mw = Descriptors.MolWt(mol)\n",
        "    HBA = Descriptors.NumHAcceptors(mol)\n",
        "    HBD = Descriptors.NumHDonors(mol)\n",
        "    logp = Descriptors.MolLogP(mol)\n",
        "\n",
        "    conditions = (sum([Mw, HBA, HBD, logp]) >= 3)\n",
        "\n",
        "    return pd.Series(data = [Mw, HBA, HBD, logp, conditions],\n",
        "                     index=['Mw', 'HBA', 'HBD', 'logP', 'linpinski_satisfied'])"
      ],
      "metadata": {
        "id": "1RJ6NVWf7iud"
      },
      "execution_count": 38,
      "outputs": []
    },
    {
      "cell_type": "code",
      "source": [
        "lipinski_df = data.canonical_smiles.apply(lipinski_rules_df)\n",
        "\n",
        "data = pd.concat([data, lipinski_df], axis=1)\n",
        "data.head()"
      ],
      "metadata": {
        "colab": {
          "base_uri": "https://localhost:8080/",
          "height": 288
        },
        "id": "2GNqpNiH7lqE",
        "outputId": "b1951a94-5eb4-4cbb-a978-6cfb54a7ab0a"
      },
      "execution_count": 39,
      "outputs": [
        {
          "output_type": "execute_result",
          "data": {
            "text/plain": [
              "  assay_chembl_id assay_type                                 canonical_smiles  \\\n",
              "0    CHEMBL829584          B           Cc1noc(C)c1CN1C(=O)C(=O)c2cc(C#N)ccc21   \n",
              "1    CHEMBL829584          B           O=C1C(=O)N(Cc2ccc(F)cc2Cl)c2ccc(I)cc21   \n",
              "2    CHEMBL830868          B          O=C1C(=O)N(CC2COc3ccccc3O2)c2ccc(I)cc21   \n",
              "3    CHEMBL829584          B              O=C1C(=O)N(Cc2cc3ccccc3s2)c2ccccc21   \n",
              "4    CHEMBL829584          B  O=C1C(=O)N(Cc2cc3ccccc3s2)c2c1cccc2[N+](=O)[O-]   \n",
              "\n",
              "  standard_relation  standard_value standard_units molecule_chembl_id  \\\n",
              "0                 =          7200.0             nM       CHEMBL187579   \n",
              "1                 =          9400.0             nM       CHEMBL188487   \n",
              "2                 =         13500.0             nM       CHEMBL185698   \n",
              "3                 =         13110.0             nM       CHEMBL426082   \n",
              "4                 =          2000.0             nM       CHEMBL187717   \n",
              "\n",
              "      pIC50       activity       Mw  HBA  HBD     logP  linpinski_satisfied  \n",
              "0  5.142668  intermediated  281.271    5    0  1.89262                 True  \n",
              "1  5.026872  intermediated  415.589    2    0  3.81320                 True  \n",
              "2  4.869666       inactive  421.190    4    0  2.66050                 True  \n",
              "3  4.882397       inactive  293.347    3    0  3.63080                 True  \n",
              "4  5.698970  intermediated  338.344    5    0  3.53900                 True  "
            ],
            "text/html": [
              "\n",
              "  <div id=\"df-09d6ced0-45ae-45fb-aeff-ed72842277f2\">\n",
              "    <div class=\"colab-df-container\">\n",
              "      <div>\n",
              "<style scoped>\n",
              "    .dataframe tbody tr th:only-of-type {\n",
              "        vertical-align: middle;\n",
              "    }\n",
              "\n",
              "    .dataframe tbody tr th {\n",
              "        vertical-align: top;\n",
              "    }\n",
              "\n",
              "    .dataframe thead th {\n",
              "        text-align: right;\n",
              "    }\n",
              "</style>\n",
              "<table border=\"1\" class=\"dataframe\">\n",
              "  <thead>\n",
              "    <tr style=\"text-align: right;\">\n",
              "      <th></th>\n",
              "      <th>assay_chembl_id</th>\n",
              "      <th>assay_type</th>\n",
              "      <th>canonical_smiles</th>\n",
              "      <th>standard_relation</th>\n",
              "      <th>standard_value</th>\n",
              "      <th>standard_units</th>\n",
              "      <th>molecule_chembl_id</th>\n",
              "      <th>pIC50</th>\n",
              "      <th>activity</th>\n",
              "      <th>Mw</th>\n",
              "      <th>HBA</th>\n",
              "      <th>HBD</th>\n",
              "      <th>logP</th>\n",
              "      <th>linpinski_satisfied</th>\n",
              "    </tr>\n",
              "  </thead>\n",
              "  <tbody>\n",
              "    <tr>\n",
              "      <th>0</th>\n",
              "      <td>CHEMBL829584</td>\n",
              "      <td>B</td>\n",
              "      <td>Cc1noc(C)c1CN1C(=O)C(=O)c2cc(C#N)ccc21</td>\n",
              "      <td>=</td>\n",
              "      <td>7200.0</td>\n",
              "      <td>nM</td>\n",
              "      <td>CHEMBL187579</td>\n",
              "      <td>5.142668</td>\n",
              "      <td>intermediated</td>\n",
              "      <td>281.271</td>\n",
              "      <td>5</td>\n",
              "      <td>0</td>\n",
              "      <td>1.89262</td>\n",
              "      <td>True</td>\n",
              "    </tr>\n",
              "    <tr>\n",
              "      <th>1</th>\n",
              "      <td>CHEMBL829584</td>\n",
              "      <td>B</td>\n",
              "      <td>O=C1C(=O)N(Cc2ccc(F)cc2Cl)c2ccc(I)cc21</td>\n",
              "      <td>=</td>\n",
              "      <td>9400.0</td>\n",
              "      <td>nM</td>\n",
              "      <td>CHEMBL188487</td>\n",
              "      <td>5.026872</td>\n",
              "      <td>intermediated</td>\n",
              "      <td>415.589</td>\n",
              "      <td>2</td>\n",
              "      <td>0</td>\n",
              "      <td>3.81320</td>\n",
              "      <td>True</td>\n",
              "    </tr>\n",
              "    <tr>\n",
              "      <th>2</th>\n",
              "      <td>CHEMBL830868</td>\n",
              "      <td>B</td>\n",
              "      <td>O=C1C(=O)N(CC2COc3ccccc3O2)c2ccc(I)cc21</td>\n",
              "      <td>=</td>\n",
              "      <td>13500.0</td>\n",
              "      <td>nM</td>\n",
              "      <td>CHEMBL185698</td>\n",
              "      <td>4.869666</td>\n",
              "      <td>inactive</td>\n",
              "      <td>421.190</td>\n",
              "      <td>4</td>\n",
              "      <td>0</td>\n",
              "      <td>2.66050</td>\n",
              "      <td>True</td>\n",
              "    </tr>\n",
              "    <tr>\n",
              "      <th>3</th>\n",
              "      <td>CHEMBL829584</td>\n",
              "      <td>B</td>\n",
              "      <td>O=C1C(=O)N(Cc2cc3ccccc3s2)c2ccccc21</td>\n",
              "      <td>=</td>\n",
              "      <td>13110.0</td>\n",
              "      <td>nM</td>\n",
              "      <td>CHEMBL426082</td>\n",
              "      <td>4.882397</td>\n",
              "      <td>inactive</td>\n",
              "      <td>293.347</td>\n",
              "      <td>3</td>\n",
              "      <td>0</td>\n",
              "      <td>3.63080</td>\n",
              "      <td>True</td>\n",
              "    </tr>\n",
              "    <tr>\n",
              "      <th>4</th>\n",
              "      <td>CHEMBL829584</td>\n",
              "      <td>B</td>\n",
              "      <td>O=C1C(=O)N(Cc2cc3ccccc3s2)c2c1cccc2[N+](=O)[O-]</td>\n",
              "      <td>=</td>\n",
              "      <td>2000.0</td>\n",
              "      <td>nM</td>\n",
              "      <td>CHEMBL187717</td>\n",
              "      <td>5.698970</td>\n",
              "      <td>intermediated</td>\n",
              "      <td>338.344</td>\n",
              "      <td>5</td>\n",
              "      <td>0</td>\n",
              "      <td>3.53900</td>\n",
              "      <td>True</td>\n",
              "    </tr>\n",
              "  </tbody>\n",
              "</table>\n",
              "</div>\n",
              "      <button class=\"colab-df-convert\" onclick=\"convertToInteractive('df-09d6ced0-45ae-45fb-aeff-ed72842277f2')\"\n",
              "              title=\"Convert this dataframe to an interactive table.\"\n",
              "              style=\"display:none;\">\n",
              "        \n",
              "  <svg xmlns=\"http://www.w3.org/2000/svg\" height=\"24px\"viewBox=\"0 0 24 24\"\n",
              "       width=\"24px\">\n",
              "    <path d=\"M0 0h24v24H0V0z\" fill=\"none\"/>\n",
              "    <path d=\"M18.56 5.44l.94 2.06.94-2.06 2.06-.94-2.06-.94-.94-2.06-.94 2.06-2.06.94zm-11 1L8.5 8.5l.94-2.06 2.06-.94-2.06-.94L8.5 2.5l-.94 2.06-2.06.94zm10 10l.94 2.06.94-2.06 2.06-.94-2.06-.94-.94-2.06-.94 2.06-2.06.94z\"/><path d=\"M17.41 7.96l-1.37-1.37c-.4-.4-.92-.59-1.43-.59-.52 0-1.04.2-1.43.59L10.3 9.45l-7.72 7.72c-.78.78-.78 2.05 0 2.83L4 21.41c.39.39.9.59 1.41.59.51 0 1.02-.2 1.41-.59l7.78-7.78 2.81-2.81c.8-.78.8-2.07 0-2.86zM5.41 20L4 18.59l7.72-7.72 1.47 1.35L5.41 20z\"/>\n",
              "  </svg>\n",
              "      </button>\n",
              "      \n",
              "  <style>\n",
              "    .colab-df-container {\n",
              "      display:flex;\n",
              "      flex-wrap:wrap;\n",
              "      gap: 12px;\n",
              "    }\n",
              "\n",
              "    .colab-df-convert {\n",
              "      background-color: #E8F0FE;\n",
              "      border: none;\n",
              "      border-radius: 50%;\n",
              "      cursor: pointer;\n",
              "      display: none;\n",
              "      fill: #1967D2;\n",
              "      height: 32px;\n",
              "      padding: 0 0 0 0;\n",
              "      width: 32px;\n",
              "    }\n",
              "\n",
              "    .colab-df-convert:hover {\n",
              "      background-color: #E2EBFA;\n",
              "      box-shadow: 0px 1px 2px rgba(60, 64, 67, 0.3), 0px 1px 3px 1px rgba(60, 64, 67, 0.15);\n",
              "      fill: #174EA6;\n",
              "    }\n",
              "\n",
              "    [theme=dark] .colab-df-convert {\n",
              "      background-color: #3B4455;\n",
              "      fill: #D2E3FC;\n",
              "    }\n",
              "\n",
              "    [theme=dark] .colab-df-convert:hover {\n",
              "      background-color: #434B5C;\n",
              "      box-shadow: 0px 1px 3px 1px rgba(0, 0, 0, 0.15);\n",
              "      filter: drop-shadow(0px 1px 2px rgba(0, 0, 0, 0.3));\n",
              "      fill: #FFFFFF;\n",
              "    }\n",
              "  </style>\n",
              "\n",
              "      <script>\n",
              "        const buttonEl =\n",
              "          document.querySelector('#df-09d6ced0-45ae-45fb-aeff-ed72842277f2 button.colab-df-convert');\n",
              "        buttonEl.style.display =\n",
              "          google.colab.kernel.accessAllowed ? 'block' : 'none';\n",
              "\n",
              "        async function convertToInteractive(key) {\n",
              "          const element = document.querySelector('#df-09d6ced0-45ae-45fb-aeff-ed72842277f2');\n",
              "          const dataTable =\n",
              "            await google.colab.kernel.invokeFunction('convertToInteractive',\n",
              "                                                     [key], {});\n",
              "          if (!dataTable) return;\n",
              "\n",
              "          const docLinkHtml = 'Like what you see? Visit the ' +\n",
              "            '<a target=\"_blank\" href=https://colab.research.google.com/notebooks/data_table.ipynb>data table notebook</a>'\n",
              "            + ' to learn more about interactive tables.';\n",
              "          element.innerHTML = '';\n",
              "          dataTable['output_type'] = 'display_data';\n",
              "          await google.colab.output.renderOutput(dataTable, element);\n",
              "          const docLink = document.createElement('div');\n",
              "          docLink.innerHTML = docLinkHtml;\n",
              "          element.appendChild(docLink);\n",
              "        }\n",
              "      </script>\n",
              "    </div>\n",
              "  </div>\n",
              "  "
            ]
          },
          "metadata": {},
          "execution_count": 39
        }
      ]
    },
    {
      "cell_type": "code",
      "source": [
        "columns = ['assay_chembl_id', 'canonical_smiles', 'activity', 'molecule_chembl_id',\n",
        "           'pIC50', 'Mw', 'HBA', 'HBD', 'logP', 'linpinski_satisfied']\n",
        "\n",
        "target_molecule_df = data[columns]\n",
        "target_molecule_df.to_csv('target_molecule_df.csv', index=False)"
      ],
      "metadata": {
        "id": "FGQaLE8EMAxa"
      },
      "execution_count": 45,
      "outputs": []
    },
    {
      "cell_type": "code",
      "source": [
        "df = pd.read_csv('target_molecule_df.csv')\n",
        "df.head()"
      ],
      "metadata": {
        "colab": {
          "base_uri": "https://localhost:8080/",
          "height": 288
        },
        "id": "q6T9MTqxNa_e",
        "outputId": "d73ae703-d2a9-4221-f0fd-4485fa0fcd05"
      },
      "execution_count": 46,
      "outputs": [
        {
          "output_type": "execute_result",
          "data": {
            "text/plain": [
              "  assay_chembl_id                                 canonical_smiles  \\\n",
              "0    CHEMBL829584           Cc1noc(C)c1CN1C(=O)C(=O)c2cc(C#N)ccc21   \n",
              "1    CHEMBL829584           O=C1C(=O)N(Cc2ccc(F)cc2Cl)c2ccc(I)cc21   \n",
              "2    CHEMBL830868          O=C1C(=O)N(CC2COc3ccccc3O2)c2ccc(I)cc21   \n",
              "3    CHEMBL829584              O=C1C(=O)N(Cc2cc3ccccc3s2)c2ccccc21   \n",
              "4    CHEMBL829584  O=C1C(=O)N(Cc2cc3ccccc3s2)c2c1cccc2[N+](=O)[O-]   \n",
              "\n",
              "        activity molecule_chembl_id     pIC50       Mw  HBA  HBD     logP  \\\n",
              "0  intermediated       CHEMBL187579  5.142668  281.271    5    0  1.89262   \n",
              "1  intermediated       CHEMBL188487  5.026872  415.589    2    0  3.81320   \n",
              "2       inactive       CHEMBL185698  4.869666  421.190    4    0  2.66050   \n",
              "3       inactive       CHEMBL426082  4.882397  293.347    3    0  3.63080   \n",
              "4  intermediated       CHEMBL187717  5.698970  338.344    5    0  3.53900   \n",
              "\n",
              "   linpinski_satisfied  \n",
              "0                 True  \n",
              "1                 True  \n",
              "2                 True  \n",
              "3                 True  \n",
              "4                 True  "
            ],
            "text/html": [
              "\n",
              "  <div id=\"df-8d322fa6-256c-4315-a4bd-94b8b2696ddf\">\n",
              "    <div class=\"colab-df-container\">\n",
              "      <div>\n",
              "<style scoped>\n",
              "    .dataframe tbody tr th:only-of-type {\n",
              "        vertical-align: middle;\n",
              "    }\n",
              "\n",
              "    .dataframe tbody tr th {\n",
              "        vertical-align: top;\n",
              "    }\n",
              "\n",
              "    .dataframe thead th {\n",
              "        text-align: right;\n",
              "    }\n",
              "</style>\n",
              "<table border=\"1\" class=\"dataframe\">\n",
              "  <thead>\n",
              "    <tr style=\"text-align: right;\">\n",
              "      <th></th>\n",
              "      <th>assay_chembl_id</th>\n",
              "      <th>canonical_smiles</th>\n",
              "      <th>activity</th>\n",
              "      <th>molecule_chembl_id</th>\n",
              "      <th>pIC50</th>\n",
              "      <th>Mw</th>\n",
              "      <th>HBA</th>\n",
              "      <th>HBD</th>\n",
              "      <th>logP</th>\n",
              "      <th>linpinski_satisfied</th>\n",
              "    </tr>\n",
              "  </thead>\n",
              "  <tbody>\n",
              "    <tr>\n",
              "      <th>0</th>\n",
              "      <td>CHEMBL829584</td>\n",
              "      <td>Cc1noc(C)c1CN1C(=O)C(=O)c2cc(C#N)ccc21</td>\n",
              "      <td>intermediated</td>\n",
              "      <td>CHEMBL187579</td>\n",
              "      <td>5.142668</td>\n",
              "      <td>281.271</td>\n",
              "      <td>5</td>\n",
              "      <td>0</td>\n",
              "      <td>1.89262</td>\n",
              "      <td>True</td>\n",
              "    </tr>\n",
              "    <tr>\n",
              "      <th>1</th>\n",
              "      <td>CHEMBL829584</td>\n",
              "      <td>O=C1C(=O)N(Cc2ccc(F)cc2Cl)c2ccc(I)cc21</td>\n",
              "      <td>intermediated</td>\n",
              "      <td>CHEMBL188487</td>\n",
              "      <td>5.026872</td>\n",
              "      <td>415.589</td>\n",
              "      <td>2</td>\n",
              "      <td>0</td>\n",
              "      <td>3.81320</td>\n",
              "      <td>True</td>\n",
              "    </tr>\n",
              "    <tr>\n",
              "      <th>2</th>\n",
              "      <td>CHEMBL830868</td>\n",
              "      <td>O=C1C(=O)N(CC2COc3ccccc3O2)c2ccc(I)cc21</td>\n",
              "      <td>inactive</td>\n",
              "      <td>CHEMBL185698</td>\n",
              "      <td>4.869666</td>\n",
              "      <td>421.190</td>\n",
              "      <td>4</td>\n",
              "      <td>0</td>\n",
              "      <td>2.66050</td>\n",
              "      <td>True</td>\n",
              "    </tr>\n",
              "    <tr>\n",
              "      <th>3</th>\n",
              "      <td>CHEMBL829584</td>\n",
              "      <td>O=C1C(=O)N(Cc2cc3ccccc3s2)c2ccccc21</td>\n",
              "      <td>inactive</td>\n",
              "      <td>CHEMBL426082</td>\n",
              "      <td>4.882397</td>\n",
              "      <td>293.347</td>\n",
              "      <td>3</td>\n",
              "      <td>0</td>\n",
              "      <td>3.63080</td>\n",
              "      <td>True</td>\n",
              "    </tr>\n",
              "    <tr>\n",
              "      <th>4</th>\n",
              "      <td>CHEMBL829584</td>\n",
              "      <td>O=C1C(=O)N(Cc2cc3ccccc3s2)c2c1cccc2[N+](=O)[O-]</td>\n",
              "      <td>intermediated</td>\n",
              "      <td>CHEMBL187717</td>\n",
              "      <td>5.698970</td>\n",
              "      <td>338.344</td>\n",
              "      <td>5</td>\n",
              "      <td>0</td>\n",
              "      <td>3.53900</td>\n",
              "      <td>True</td>\n",
              "    </tr>\n",
              "  </tbody>\n",
              "</table>\n",
              "</div>\n",
              "      <button class=\"colab-df-convert\" onclick=\"convertToInteractive('df-8d322fa6-256c-4315-a4bd-94b8b2696ddf')\"\n",
              "              title=\"Convert this dataframe to an interactive table.\"\n",
              "              style=\"display:none;\">\n",
              "        \n",
              "  <svg xmlns=\"http://www.w3.org/2000/svg\" height=\"24px\"viewBox=\"0 0 24 24\"\n",
              "       width=\"24px\">\n",
              "    <path d=\"M0 0h24v24H0V0z\" fill=\"none\"/>\n",
              "    <path d=\"M18.56 5.44l.94 2.06.94-2.06 2.06-.94-2.06-.94-.94-2.06-.94 2.06-2.06.94zm-11 1L8.5 8.5l.94-2.06 2.06-.94-2.06-.94L8.5 2.5l-.94 2.06-2.06.94zm10 10l.94 2.06.94-2.06 2.06-.94-2.06-.94-.94-2.06-.94 2.06-2.06.94z\"/><path d=\"M17.41 7.96l-1.37-1.37c-.4-.4-.92-.59-1.43-.59-.52 0-1.04.2-1.43.59L10.3 9.45l-7.72 7.72c-.78.78-.78 2.05 0 2.83L4 21.41c.39.39.9.59 1.41.59.51 0 1.02-.2 1.41-.59l7.78-7.78 2.81-2.81c.8-.78.8-2.07 0-2.86zM5.41 20L4 18.59l7.72-7.72 1.47 1.35L5.41 20z\"/>\n",
              "  </svg>\n",
              "      </button>\n",
              "      \n",
              "  <style>\n",
              "    .colab-df-container {\n",
              "      display:flex;\n",
              "      flex-wrap:wrap;\n",
              "      gap: 12px;\n",
              "    }\n",
              "\n",
              "    .colab-df-convert {\n",
              "      background-color: #E8F0FE;\n",
              "      border: none;\n",
              "      border-radius: 50%;\n",
              "      cursor: pointer;\n",
              "      display: none;\n",
              "      fill: #1967D2;\n",
              "      height: 32px;\n",
              "      padding: 0 0 0 0;\n",
              "      width: 32px;\n",
              "    }\n",
              "\n",
              "    .colab-df-convert:hover {\n",
              "      background-color: #E2EBFA;\n",
              "      box-shadow: 0px 1px 2px rgba(60, 64, 67, 0.3), 0px 1px 3px 1px rgba(60, 64, 67, 0.15);\n",
              "      fill: #174EA6;\n",
              "    }\n",
              "\n",
              "    [theme=dark] .colab-df-convert {\n",
              "      background-color: #3B4455;\n",
              "      fill: #D2E3FC;\n",
              "    }\n",
              "\n",
              "    [theme=dark] .colab-df-convert:hover {\n",
              "      background-color: #434B5C;\n",
              "      box-shadow: 0px 1px 3px 1px rgba(0, 0, 0, 0.15);\n",
              "      filter: drop-shadow(0px 1px 2px rgba(0, 0, 0, 0.3));\n",
              "      fill: #FFFFFF;\n",
              "    }\n",
              "  </style>\n",
              "\n",
              "      <script>\n",
              "        const buttonEl =\n",
              "          document.querySelector('#df-8d322fa6-256c-4315-a4bd-94b8b2696ddf button.colab-df-convert');\n",
              "        buttonEl.style.display =\n",
              "          google.colab.kernel.accessAllowed ? 'block' : 'none';\n",
              "\n",
              "        async function convertToInteractive(key) {\n",
              "          const element = document.querySelector('#df-8d322fa6-256c-4315-a4bd-94b8b2696ddf');\n",
              "          const dataTable =\n",
              "            await google.colab.kernel.invokeFunction('convertToInteractive',\n",
              "                                                     [key], {});\n",
              "          if (!dataTable) return;\n",
              "\n",
              "          const docLinkHtml = 'Like what you see? Visit the ' +\n",
              "            '<a target=\"_blank\" href=https://colab.research.google.com/notebooks/data_table.ipynb>data table notebook</a>'\n",
              "            + ' to learn more about interactive tables.';\n",
              "          element.innerHTML = '';\n",
              "          dataTable['output_type'] = 'display_data';\n",
              "          await google.colab.output.renderOutput(dataTable, element);\n",
              "          const docLink = document.createElement('div');\n",
              "          docLink.innerHTML = docLinkHtml;\n",
              "          element.appendChild(docLink);\n",
              "        }\n",
              "      </script>\n",
              "    </div>\n",
              "  </div>\n",
              "  "
            ]
          },
          "metadata": {},
          "execution_count": 46
        }
      ]
    },
    {
      "cell_type": "markdown",
      "source": [
        "## EDA"
      ],
      "metadata": {
        "id": "BKBlBlY1Pwqa"
      }
    },
    {
      "cell_type": "code",
      "source": [
        "plt.figure(figsize=(10, 4))\n",
        "\n",
        "plt.subplot(1, 2, 1)\n",
        "sns.histplot(x='pIC50', data=df, bins=30, hue='activity')\n",
        "\n",
        "plt.subplot(1, 2, 2)\n",
        "sns.countplot(x='activity', data=df)\n",
        "plt.show()"
      ],
      "metadata": {
        "colab": {
          "base_uri": "https://localhost:8080/",
          "height": 279
        },
        "id": "tflFMz2WQWEW",
        "outputId": "a7fc5cfb-cf18-42f6-f525-80901611ce0b"
      },
      "execution_count": 47,
      "outputs": [
        {
          "output_type": "display_data",
          "data": {
            "text/plain": [
              "<Figure size 720x288 with 2 Axes>"
            ],
            "image/png": "[encoded data removed]"
          },
          "metadata": {
            "needs_background": "light"
          }
        }
      ]
    },
    {
      "cell_type": "code",
      "source": [
        "plt.figure(figsize=(13, 3))\n",
        "\n",
        "plt.subplot(1, 4, 1)\n",
        "sns.barplot(x='activity', y='Mw', data=df,)\n",
        "plt.axhline(y=500, color='k', linestyle='--')\n",
        "plt.title('Mw')\n",
        "\n",
        "plt.subplot(1, 4, 2)\n",
        "sns.barplot(x='activity', y='HBA', data=df)\n",
        "plt.axhline(y=10, color='k', linestyle='--')\n",
        "plt.title('HBA')\n",
        "\n",
        "plt.subplot(1, 4, 3)\n",
        "sns.barplot(x='activity', y='HBD', data=df)\n",
        "plt.axhline(y=5, color='k', linestyle='--')\n",
        "plt.title('HBD')\n",
        "\n",
        "plt.subplot(1, 4, 4)\n",
        "sns.barplot(x='activity', y='logP', data=df)\n",
        "plt.axhline(y=5, color='k', linestyle='--')\n",
        "plt.title('logP')\n",
        "\n",
        "plt.suptitle('lipinski_rules')\n",
        "plt.tight_layout()\n",
        "plt.show()"
      ],
      "metadata": {
        "colab": {
          "base_uri": "https://localhost:8080/",
          "height": 232
        },
        "id": "zfv56V4oQmk1",
        "outputId": "e125bad5-ac99-4b59-80ad-5653307b46ba"
      },
      "execution_count": 48,
      "outputs": [
        {
          "output_type": "display_data",
          "data": {
            "text/plain": [
              "<Figure size 936x216 with 4 Axes>"
            ],
            "image/png": "[encoded data removed]"
          },
          "metadata": {
            "needs_background": "light"
          }
        }
      ]
    },
    {
      "cell_type": "markdown",
      "source": [
        "## Molecular filtering: unwanted substructures\n",
        "- reference [(TeachOpenCADD)](https://projects.volkamerlab.org/teachopencadd/talktorials/T003_compound_unwanted_substructures.html)\n"
      ],
      "metadata": {
        "id": "Ae3bHAWxQsIK"
      }
    },
    {
      "cell_type": "markdown",
      "source": [
        "**Unwanted substructures**  \n",
        "Substructures can be unfavorable, e.g., because they are toxic or reactive, due to unfavorable pharmacokinetic properties, or because they likely interfere with certain assays. Nowadays, drug discovery campaigns often involve high throughput screening. Filtering unwanted substructures can support assembling more efficient screening libraries, which can save time and resources. Brenk et al. (Chem. Med. Chem. (2008), 3, 435-44) have assembled a list of unfavorable substructures to filter their libraries used to screen for compounds to treat neglected diseases. Examples of such unwanted features are nitro groups (mutagenic), sulfates and phosphates (likely resulting in unfavorable pharmacokinetic properties), 2-halopyridines and thiols (reactive). This list of undesired substructures was published in the above mentioned paper and will be used in the practical part of this talktorial.\n",
        "\n",
        "**Pan Assay Interference Compounds (PAINS)**  \n",
        "PAINS are compounds that often occur as hits in HTS even though they actually are false positives. PAINS show activity at numerous targets rather than one specific target. Such behavior results from unspecific binding or interaction with assay components. Baell et al. (J. Med. Chem. (2010), 53, 2719-2740) focused on substructures interfering in assay signaling. They described substructures which can help to identify such PAINS and provided a list which can be used for substructure filtering."
      ],
      "metadata": {
        "id": "5H600xnHaebj"
      }
    },
    {
      "cell_type": "code",
      "source": [
        "df = pd.read_csv('target_molecule_df.csv')\n",
        "df.head()"
      ],
      "metadata": {
        "id": "9tP8NA4ubCy1",
        "outputId": "2c9c94bf-c4bc-47fe-f8b1-ae31fe8093f2",
        "colab": {
          "base_uri": "https://localhost:8080/",
          "height": 288
        }
      },
      "execution_count": 67,
      "outputs": [
        {
          "output_type": "execute_result",
          "data": {
            "text/plain": [
              "  assay_chembl_id                                 canonical_smiles  \\\n",
              "0    CHEMBL829584           Cc1noc(C)c1CN1C(=O)C(=O)c2cc(C#N)ccc21   \n",
              "1    CHEMBL829584           O=C1C(=O)N(Cc2ccc(F)cc2Cl)c2ccc(I)cc21   \n",
              "2    CHEMBL830868          O=C1C(=O)N(CC2COc3ccccc3O2)c2ccc(I)cc21   \n",
              "3    CHEMBL829584              O=C1C(=O)N(Cc2cc3ccccc3s2)c2ccccc21   \n",
              "4    CHEMBL829584  O=C1C(=O)N(Cc2cc3ccccc3s2)c2c1cccc2[N+](=O)[O-]   \n",
              "\n",
              "        activity molecule_chembl_id     pIC50       Mw  HBA  HBD     logP  \\\n",
              "0  intermediated       CHEMBL187579  5.142668  281.271    5    0  1.89262   \n",
              "1  intermediated       CHEMBL188487  5.026872  415.589    2    0  3.81320   \n",
              "2       inactive       CHEMBL185698  4.869666  421.190    4    0  2.66050   \n",
              "3       inactive       CHEMBL426082  4.882397  293.347    3    0  3.63080   \n",
              "4  intermediated       CHEMBL187717  5.698970  338.344    5    0  3.53900   \n",
              "\n",
              "   linpinski_satisfied  \n",
              "0                 True  \n",
              "1                 True  \n",
              "2                 True  \n",
              "3                 True  \n",
              "4                 True  "
            ],
            "text/html": [
              "\n",
              "  <div id=\"df-ce3d096b-b4c0-43fe-969d-faf07c83e710\">\n",
              "    <div class=\"colab-df-container\">\n",
              "      <div>\n",
              "<style scoped>\n",
              "    .dataframe tbody tr th:only-of-type {\n",
              "        vertical-align: middle;\n",
              "    }\n",
              "\n",
              "    .dataframe tbody tr th {\n",
              "        vertical-align: top;\n",
              "    }\n",
              "\n",
              "    .dataframe thead th {\n",
              "        text-align: right;\n",
              "    }\n",
              "</style>\n",
              "<table border=\"1\" class=\"dataframe\">\n",
              "  <thead>\n",
              "    <tr style=\"text-align: right;\">\n",
              "      <th></th>\n",
              "      <th>assay_chembl_id</th>\n",
              "      <th>canonical_smiles</th>\n",
              "      <th>activity</th>\n",
              "      <th>molecule_chembl_id</th>\n",
              "      <th>pIC50</th>\n",
              "      <th>Mw</th>\n",
              "      <th>HBA</th>\n",
              "      <th>HBD</th>\n",
              "      <th>logP</th>\n",
              "      <th>linpinski_satisfied</th>\n",
              "    </tr>\n",
              "  </thead>\n",
              "  <tbody>\n",
              "    <tr>\n",
              "      <th>0</th>\n",
              "      <td>CHEMBL829584</td>\n",
              "      <td>Cc1noc(C)c1CN1C(=O)C(=O)c2cc(C#N)ccc21</td>\n",
              "      <td>intermediated</td>\n",
              "      <td>CHEMBL187579</td>\n",
              "      <td>5.142668</td>\n",
              "      <td>281.271</td>\n",
              "      <td>5</td>\n",
              "      <td>0</td>\n",
              "      <td>1.89262</td>\n",
              "      <td>True</td>\n",
              "    </tr>\n",
              "    <tr>\n",
              "      <th>1</th>\n",
              "      <td>CHEMBL829584</td>\n",
              "      <td>O=C1C(=O)N(Cc2ccc(F)cc2Cl)c2ccc(I)cc21</td>\n",
              "      <td>intermediated</td>\n",
              "      <td>CHEMBL188487</td>\n",
              "      <td>5.026872</td>\n",
              "      <td>415.589</td>\n",
              "      <td>2</td>\n",
              "      <td>0</td>\n",
              "      <td>3.81320</td>\n",
              "      <td>True</td>\n",
              "    </tr>\n",
              "    <tr>\n",
              "      <th>2</th>\n",
              "      <td>CHEMBL830868</td>\n",
              "      <td>O=C1C(=O)N(CC2COc3ccccc3O2)c2ccc(I)cc21</td>\n",
              "      <td>inactive</td>\n",
              "      <td>CHEMBL185698</td>\n",
              "      <td>4.869666</td>\n",
              "      <td>421.190</td>\n",
              "      <td>4</td>\n",
              "      <td>0</td>\n",
              "      <td>2.66050</td>\n",
              "      <td>True</td>\n",
              "    </tr>\n",
              "    <tr>\n",
              "      <th>3</th>\n",
              "      <td>CHEMBL829584</td>\n",
              "      <td>O=C1C(=O)N(Cc2cc3ccccc3s2)c2ccccc21</td>\n",
              "      <td>inactive</td>\n",
              "      <td>CHEMBL426082</td>\n",
              "      <td>4.882397</td>\n",
              "      <td>293.347</td>\n",
              "      <td>3</td>\n",
              "      <td>0</td>\n",
              "      <td>3.63080</td>\n",
              "      <td>True</td>\n",
              "    </tr>\n",
              "    <tr>\n",
              "      <th>4</th>\n",
              "      <td>CHEMBL829584</td>\n",
              "      <td>O=C1C(=O)N(Cc2cc3ccccc3s2)c2c1cccc2[N+](=O)[O-]</td>\n",
              "      <td>intermediated</td>\n",
              "      <td>CHEMBL187717</td>\n",
              "      <td>5.698970</td>\n",
              "      <td>338.344</td>\n",
              "      <td>5</td>\n",
              "      <td>0</td>\n",
              "      <td>3.53900</td>\n",
              "      <td>True</td>\n",
              "    </tr>\n",
              "  </tbody>\n",
              "</table>\n",
              "</div>\n",
              "      <button class=\"colab-df-convert\" onclick=\"convertToInteractive('df-ce3d096b-b4c0-43fe-969d-faf07c83e710')\"\n",
              "              title=\"Convert this dataframe to an interactive table.\"\n",
              "              style=\"display:none;\">\n",
              "        \n",
              "  <svg xmlns=\"http://www.w3.org/2000/svg\" height=\"24px\"viewBox=\"0 0 24 24\"\n",
              "       width=\"24px\">\n",
              "    <path d=\"M0 0h24v24H0V0z\" fill=\"none\"/>\n",
              "    <path d=\"M18.56 5.44l.94 2.06.94-2.06 2.06-.94-2.06-.94-.94-2.06-.94 2.06-2.06.94zm-11 1L8.5 8.5l.94-2.06 2.06-.94-2.06-.94L8.5 2.5l-.94 2.06-2.06.94zm10 10l.94 2.06.94-2.06 2.06-.94-2.06-.94-.94-2.06-.94 2.06-2.06.94z\"/><path d=\"M17.41 7.96l-1.37-1.37c-.4-.4-.92-.59-1.43-.59-.52 0-1.04.2-1.43.59L10.3 9.45l-7.72 7.72c-.78.78-.78 2.05 0 2.83L4 21.41c.39.39.9.59 1.41.59.51 0 1.02-.2 1.41-.59l7.78-7.78 2.81-2.81c.8-.78.8-2.07 0-2.86zM5.41 20L4 18.59l7.72-7.72 1.47 1.35L5.41 20z\"/>\n",
              "  </svg>\n",
              "      </button>\n",
              "      \n",
              "  <style>\n",
              "    .colab-df-container {\n",
              "      display:flex;\n",
              "      flex-wrap:wrap;\n",
              "      gap: 12px;\n",
              "    }\n",
              "\n",
              "    .colab-df-convert {\n",
              "      background-color: #E8F0FE;\n",
              "      border: none;\n",
              "      border-radius: 50%;\n",
              "      cursor: pointer;\n",
              "      display: none;\n",
              "      fill: #1967D2;\n",
              "      height: 32px;\n",
              "      padding: 0 0 0 0;\n",
              "      width: 32px;\n",
              "    }\n",
              "\n",
              "    .colab-df-convert:hover {\n",
              "      background-color: #E2EBFA;\n",
              "      box-shadow: 0px 1px 2px rgba(60, 64, 67, 0.3), 0px 1px 3px 1px rgba(60, 64, 67, 0.15);\n",
              "      fill: #174EA6;\n",
              "    }\n",
              "\n",
              "    [theme=dark] .colab-df-convert {\n",
              "      background-color: #3B4455;\n",
              "      fill: #D2E3FC;\n",
              "    }\n",
              "\n",
              "    [theme=dark] .colab-df-convert:hover {\n",
              "      background-color: #434B5C;\n",
              "      box-shadow: 0px 1px 3px 1px rgba(0, 0, 0, 0.15);\n",
              "      filter: drop-shadow(0px 1px 2px rgba(0, 0, 0, 0.3));\n",
              "      fill: #FFFFFF;\n",
              "    }\n",
              "  </style>\n",
              "\n",
              "      <script>\n",
              "        const buttonEl =\n",
              "          document.querySelector('#df-ce3d096b-b4c0-43fe-969d-faf07c83e710 button.colab-df-convert');\n",
              "        buttonEl.style.display =\n",
              "          google.colab.kernel.accessAllowed ? 'block' : 'none';\n",
              "\n",
              "        async function convertToInteractive(key) {\n",
              "          const element = document.querySelector('#df-ce3d096b-b4c0-43fe-969d-faf07c83e710');\n",
              "          const dataTable =\n",
              "            await google.colab.kernel.invokeFunction('convertToInteractive',\n",
              "                                                     [key], {});\n",
              "          if (!dataTable) return;\n",
              "\n",
              "          const docLinkHtml = 'Like what you see? Visit the ' +\n",
              "            '<a target=\"_blank\" href=https://colab.research.google.com/notebooks/data_table.ipynb>data table notebook</a>'\n",
              "            + ' to learn more about interactive tables.';\n",
              "          element.innerHTML = '';\n",
              "          dataTable['output_type'] = 'display_data';\n",
              "          await google.colab.output.renderOutput(dataTable, element);\n",
              "          const docLink = document.createElement('div');\n",
              "          docLink.innerHTML = docLinkHtml;\n",
              "          element.appendChild(docLink);\n",
              "        }\n",
              "      </script>\n",
              "    </div>\n",
              "  </div>\n",
              "  "
            ]
          },
          "metadata": {},
          "execution_count": 67
        }
      ]
    },
    {
      "cell_type": "code",
      "source": [
        "mols = [Chem.MolFromSmiles(mol) for mol in df.canonical_smiles.values]\n",
        "len(mols)"
      ],
      "metadata": {
        "id": "GPJguVbIMIU5",
        "outputId": "1bf0e87b-bf53-4b07-e20e-042ab9674d58",
        "colab": {
          "base_uri": "https://localhost:8080/"
        }
      },
      "execution_count": 68,
      "outputs": [
        {
          "output_type": "execute_result",
          "data": {
            "text/plain": [
              "131"
            ]
          },
          "metadata": {},
          "execution_count": 68
        }
      ]
    },
    {
      "cell_type": "code",
      "source": [
        "Draw.MolsToGridImage(mols[:8], molsPerRow=4, subImgSize=(150, 150),\n",
        "                     legends=df.molecule_chembl_id[:8].values.tolist())"
      ],
      "metadata": {
        "id": "ZzvYMzNtMoqi",
        "outputId": "6c81ba9e-9aa4-4822-c840-82685c7ffec3",
        "colab": {
          "base_uri": "https://localhost:8080/",
          "height": 317
        }
      },
      "execution_count": 69,
      "outputs": [
        {
          "output_type": "execute_result",
          "data": {
            "image/png": "[encoded data removed]",
            "text/plain": [
              "<IPython.core.display.Image object>"
            ]
          },
          "metadata": {},
          "execution_count": 69
        }
      ]
    },
    {
      "cell_type": "code",
      "source": [
        "# http://rdkit.org/docs/source/rdkit.Chem.rdfiltercatalog.html\n",
        "\n",
        "# Initialization of structural filter\n",
        "\n",
        "params = FilterCatalogParams()\n",
        "params.AddCatalog(FilterCatalogParams.FilterCatalogs.PAINS)\n",
        "\n",
        "catalog = FilterCatalog(params)"
      ],
      "metadata": {
        "id": "vsC0LrEKM2wJ"
      },
      "execution_count": 70,
      "outputs": []
    },
    {
      "cell_type": "code",
      "source": [
        "# Search for compounds matched with PAINS\n",
        "\n",
        "for mol in mols:\n",
        "    entry = catalog.GetFirstMatch(mol)\n",
        "    if entry is not None:\n",
        "        print(entry.GetDescription())\n",
        "        break"
      ],
      "metadata": {
        "id": "Mr30iYo2M7jq",
        "outputId": "c1056763-dbd4-436e-e73b-f608e79d866e",
        "colab": {
          "base_uri": "https://localhost:8080/"
        }
      },
      "execution_count": 82,
      "outputs": [
        {
          "output_type": "stream",
          "name": "stdout",
          "text": [
            "imine_one_A(321)\n"
          ]
        }
      ]
    },
    {
      "cell_type": "markdown",
      "source": [
        "##  Ligand-based screening: compound similarity\n"
      ],
      "metadata": {
        "id": "KLXPM_btPHD-"
      }
    },
    {
      "cell_type": "markdown",
      "source": [
        "The similar property principle (SPP) as well as the structure-activity relationship (SAR) approaches are based on the assumption that structurally similar molecules have similar properties and, thus, similar biological activity. In this context, virtual screening follows this idea to search for similar molecules in given a set of molecules with known binding affinity and to propose those as potentially new active molecules."
      ],
      "metadata": {
        "id": "qaa_E1hVPxSW"
      }
    },
    {
      "cell_type": "markdown",
      "source": [
        "**Molecular fingerprints**\n",
        "\n",
        "- **Substructure-based fingerprints**\n",
        "\n",
        "    Molecular fingerprints are a computational representation of molecules that encode chemical and molecular features in the form of `bitstrings, bitvectors or arrays`. Each bit corresponds to a predefined molecular feature or environment, where “1” represents the presence and “0” the absence of a feature. Note that some implementations are count-based. \n",
        "\n",
        "\n",
        "\n",
        "- **MACCS fingerprints**\n",
        "\n",
        "    Molecular ACCess System (MACCS) fingerprints, also termed MACCS structural keys, consist of 166 predefined structural fragments. Each position queries the presence or absence of one particular structural fragment or key.\n",
        "\n",
        "- **Morgan fingerprints and circular fingerprints**\n",
        "\n",
        "    This family of fingerprints is based on the Morgan algorithm. The bits correspond to the circular environments of each atom in a molecule. `Extended connectivity fingerprints (ECFP)` are also commonly used fingerprints that are derived using a variant of the Morgan algorithm"
      ],
      "metadata": {
        "id": "wPxIJMuuVmsW"
      }
    },
    {
      "cell_type": "code",
      "source": [
        "## tutorial\n",
        "\n",
        "molecule_smiles = [\n",
        "    \"CC1C2C(C3C(C(=O)C(=C(C3(C(=O)C2=C(C4=C1C=CC=C4O)O)O)O)C(=O)N)N(C)C)O\",\n",
        "    \"CC1(C(N2C(S1)C(C2=O)NC(=O)C(C3=CC=C(C=C3)O)N)C(=O)O)C\",\n",
        "    \"C1=COC(=C1)CNC2=CC(=C(C=C2C(=O)O)S(=O)(=O)N)Cl\",\n",
        "    \"CCCCCCCCCCCC(=O)OCCOC(=O)CCCCCCCCCCC\",\n",
        "    \"C1NC2=CC(=C(C=C2S(=O)(=O)N1)S(=O)(=O)N)Cl\",\n",
        "    \"CC1=C(C(CCC1)(C)C)C=CC(=CC=CC(=CC(=O)O)C)C\",\n",
        "    \"CC1(C2CC3C(C(=O)C(=C(C3(C(=O)C2=C(C4=C1C=CC=C4O)O)O)O)C(=O)N)N(C)C)O\",\n",
        "    \"CC1C(CC(=O)C2=C1C=CC=C2O)C(=O)O\",\n",
        "]\n",
        "\n",
        "molecule_names = [\n",
        "    \"Doxycycline\",\n",
        "    \"Amoxicilline\",\n",
        "    \"Furosemide\",\n",
        "    \"Glycol dilaurate\",\n",
        "    \"Hydrochlorothiazide\",\n",
        "    \"Isotretinoin\",\n",
        "    \"Tetracycline\",\n",
        "    \"Hemi-cycline D\",\n",
        "]\n",
        "\n",
        "df = pd.DataFrame({'molecule_smiles' : molecule_smiles, 'molecule_names' : molecule_names})\n",
        "PandasTools.AddMoleculeColumnToFrame(df, smilesCol='molecule_smiles')\n",
        "df.head(2)"
      ],
      "metadata": {
        "id": "ri-c2dknXcvl",
        "outputId": "b5528b85-cf1f-4b42-d887-c5de89dec92b",
        "colab": {
          "base_uri": "https://localhost:8080/",
          "height": 487
        }
      },
      "execution_count": 89,
      "outputs": [
        {
          "output_type": "execute_result",
          "data": {
            "text/plain": [
              "                                     molecule_smiles molecule_names  \\\n",
              "0  CC1C2C(C3C(C(=O)C(=C(C3(C(=O)C2=C(C4=C1C=CC=C4...    Doxycycline   \n",
              "1  CC1(C(N2C(S1)C(C2=O)NC(=O)C(C3=CC=C(C=C3)O)N)C...   Amoxicilline   \n",
              "\n",
              "                                               ROMol  \n",
              "0  <img data-content=\"rdkit/molecule\" src=\"data:i...  \n",
              "1  <img data-content=\"rdkit/molecule\" src=\"data:i...  "
            ],
            "text/html": [
              "\n",
              "  <div id=\"df-ff87540d-e3c3-435f-84ae-69292365c8d9\">\n",
              "    <div class=\"colab-df-container\">\n",
              "      <div>\n",
              "<style scoped>\n",
              "    .dataframe tbody tr th:only-of-type {\n",
              "        vertical-align: middle;\n",
              "    }\n",
              "\n",
              "    .dataframe tbody tr th {\n",
              "        vertical-align: top;\n",
              "    }\n",
              "\n",
              "    .dataframe thead th {\n",
              "        text-align: right;\n",
              "    }\n",
              "</style>\n",
              "<table border=\"1\" class=\"dataframe\">\n",
              "  <thead>\n",
              "    <tr style=\"text-align: right;\">\n",
              "      <th></th>\n",
              "      <th>molecule_smiles</th>\n",
              "      <th>molecule_names</th>\n",
              "      <th>ROMol</th>\n",
              "    </tr>\n",
              "  </thead>\n",
              "  <tbody>\n",
              "    <tr>\n",
              "      <th>0</th>\n",
              "      <td>CC1C2C(C3C(C(=O)C(=C(C3(C(=O)C2=C(C4=C1C=CC=C4...</td>\n",
              "      <td>Doxycycline</td>\n",
              "      <td style=\"text-align: center;\"><img data-content=\"rdkit/molecule\" src=\"data:image/png;base64,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\" alt=\"Mol\"/></td>\n",
              "    </tr>\n",
              "    <tr>\n",
              "      <th>1</th>\n",
              "      <td>CC1(C(N2C(S1)C(C2=O)NC(=O)C(C3=CC=C(C=C3)O)N)C...</td>\n",
              "      <td>Amoxicilline</td>\n",
              "      <td style=\"text-align: center;\"><img data-content=\"rdkit/molecule\" src=\"data:image/png;base64,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\" alt=\"Mol\"/></td>\n",
              "    </tr>\n",
              "  </tbody>\n",
              "</table>\n",
              "</div>\n",
              "      <button class=\"colab-df-convert\" onclick=\"convertToInteractive('df-ff87540d-e3c3-435f-84ae-69292365c8d9')\"\n",
              "              title=\"Convert this dataframe to an interactive table.\"\n",
              "              style=\"display:none;\">\n",
              "        \n",
              "  <svg xmlns=\"http://www.w3.org/2000/svg\" height=\"24px\"viewBox=\"0 0 24 24\"\n",
              "       width=\"24px\">\n",
              "    <path d=\"M0 0h24v24H0V0z\" fill=\"none\"/>\n",
              "    <path d=\"M18.56 5.44l.94 2.06.94-2.06 2.06-.94-2.06-.94-.94-2.06-.94 2.06-2.06.94zm-11 1L8.5 8.5l.94-2.06 2.06-.94-2.06-.94L8.5 2.5l-.94 2.06-2.06.94zm10 10l.94 2.06.94-2.06 2.06-.94-2.06-.94-.94-2.06-.94 2.06-2.06.94z\"/><path d=\"M17.41 7.96l-1.37-1.37c-.4-.4-.92-.59-1.43-.59-.52 0-1.04.2-1.43.59L10.3 9.45l-7.72 7.72c-.78.78-.78 2.05 0 2.83L4 21.41c.39.39.9.59 1.41.59.51 0 1.02-.2 1.41-.59l7.78-7.78 2.81-2.81c.8-.78.8-2.07 0-2.86zM5.41 20L4 18.59l7.72-7.72 1.47 1.35L5.41 20z\"/>\n",
              "  </svg>\n",
              "      </button>\n",
              "      \n",
              "  <style>\n",
              "    .colab-df-container {\n",
              "      display:flex;\n",
              "      flex-wrap:wrap;\n",
              "      gap: 12px;\n",
              "    }\n",
              "\n",
              "    .colab-df-convert {\n",
              "      background-color: #E8F0FE;\n",
              "      border: none;\n",
              "      border-radius: 50%;\n",
              "      cursor: pointer;\n",
              "      display: none;\n",
              "      fill: #1967D2;\n",
              "      height: 32px;\n",
              "      padding: 0 0 0 0;\n",
              "      width: 32px;\n",
              "    }\n",
              "\n",
              "    .colab-df-convert:hover {\n",
              "      background-color: #E2EBFA;\n",
              "      box-shadow: 0px 1px 2px rgba(60, 64, 67, 0.3), 0px 1px 3px 1px rgba(60, 64, 67, 0.15);\n",
              "      fill: #174EA6;\n",
              "    }\n",
              "\n",
              "    [theme=dark] .colab-df-convert {\n",
              "      background-color: #3B4455;\n",
              "      fill: #D2E3FC;\n",
              "    }\n",
              "\n",
              "    [theme=dark] .colab-df-convert:hover {\n",
              "      background-color: #434B5C;\n",
              "      box-shadow: 0px 1px 3px 1px rgba(0, 0, 0, 0.15);\n",
              "      filter: drop-shadow(0px 1px 2px rgba(0, 0, 0, 0.3));\n",
              "      fill: #FFFFFF;\n",
              "    }\n",
              "  </style>\n",
              "\n",
              "      <script>\n",
              "        const buttonEl =\n",
              "          document.querySelector('#df-ff87540d-e3c3-435f-84ae-69292365c8d9 button.colab-df-convert');\n",
              "        buttonEl.style.display =\n",
              "          google.colab.kernel.accessAllowed ? 'block' : 'none';\n",
              "\n",
              "        async function convertToInteractive(key) {\n",
              "          const element = document.querySelector('#df-ff87540d-e3c3-435f-84ae-69292365c8d9');\n",
              "          const dataTable =\n",
              "            await google.colab.kernel.invokeFunction('convertToInteractive',\n",
              "                                                     [key], {});\n",
              "          if (!dataTable) return;\n",
              "\n",
              "          const docLinkHtml = 'Like what you see? Visit the ' +\n",
              "            '<a target=\"_blank\" href=https://colab.research.google.com/notebooks/data_table.ipynb>data table notebook</a>'\n",
              "            + ' to learn more about interactive tables.';\n",
              "          element.innerHTML = '';\n",
              "          dataTable['output_type'] = 'display_data';\n",
              "          await google.colab.output.renderOutput(dataTable, element);\n",
              "          const docLink = document.createElement('div');\n",
              "          docLink.innerHTML = docLinkHtml;\n",
              "          element.appendChild(docLink);\n",
              "        }\n",
              "      </script>\n",
              "    </div>\n",
              "  </div>\n",
              "  "
            ]
          },
          "metadata": {},
          "execution_count": 89
        }
      ]
    },
    {
      "cell_type": "code",
      "source": [
        "Draw.MolsToGridImage(df.ROMol.tolist(), molsPerRow=4, subImgSize=(200, 200),\n",
        "                     legends=df.molecule_names.tolist())"
      ],
      "metadata": {
        "id": "xRFKklfVYlj1",
        "outputId": "6fffd032-f26c-4be2-965d-0b346c815520",
        "colab": {
          "base_uri": "https://localhost:8080/",
          "height": 417
        }
      },
      "execution_count": 103,
      "outputs": [
        {
          "output_type": "execute_result",
          "data": {
            "image/png": "[encoded data removed]",
            "text/plain": [
              "<IPython.core.display.Image object>"
            ]
          },
          "metadata": {},
          "execution_count": 103
        }
      ]
    },
    {
      "cell_type": "code",
      "source": [
        "# from rdkit.Chem import MACCkeys\n",
        "\n",
        "mol = df.ROMol[0]\n",
        "mol"
      ],
      "metadata": {
        "id": "SucqUK8wY0OZ",
        "outputId": "afb97c34-37f9-4f5b-f74c-a28832193eb5",
        "colab": {
          "base_uri": "https://localhost:8080/",
          "height": 167
        }
      },
      "execution_count": 104,
      "outputs": [
        {
          "output_type": "execute_result",
          "data": {
            "text/plain": [
              "<rdkit.Chem.rdchem.Mol at 0x7fc4fb4228a0>"
            ],
            "image/png": "[encoded data removed]"
          },
          "metadata": {},
          "execution_count": 104
        }
      ]
    },
    {
      "cell_type": "code",
      "source": [
        "maccs_fp = MACCSkeys.GenMACCSKeys(mol)\n",
        "maccs_fp"
      ],
      "metadata": {
        "id": "ME8-77x_Y_Gk",
        "outputId": "5db44ec7-858b-4bf3-f076-5bb9d0214e62",
        "colab": {
          "base_uri": "https://localhost:8080/"
        }
      },
      "execution_count": 110,
      "outputs": [
        {
          "output_type": "execute_result",
          "data": {
            "text/plain": [
              "<rdkit.DataStructs.cDataStructs.ExplicitBitVect at 0x7fc4fd619bc0>"
            ]
          },
          "metadata": {},
          "execution_count": 110
        }
      ]
    },
    {
      "cell_type": "code",
      "source": [
        "maccs_fp.ToBitString()"
      ],
      "metadata": {
        "id": "alffc88-a8bE",
        "outputId": "89cefd0b-bdc4-4b4d-d06a-bd4945f2b055",
        "colab": {
          "base_uri": "https://localhost:8080/",
          "height": 54
        }
      },
      "execution_count": 111,
      "outputs": [
        {
          "output_type": "execute_result",
          "data": {
            "text/plain": [
              "'00000000000000000000000000100000000000000000000000100110000000000010000010101000000011100100110101010100010000101100010000100001000101001001111111101111101011111111110'"
            ],
            "application/vnd.google.colaboratory.intrinsic+json": {
              "type": "string"
            }
          },
          "metadata": {},
          "execution_count": 111
        }
      ]
    },
    {
      "cell_type": "code",
      "source": [
        "# Morgan \n",
        "\n",
        "from rdkit.Chem.AllChem import GetMorganFingerprint, GetMorganFingerprintAsBitVect\n",
        "\n",
        "morgan_fp = GetMorganFingerprint(mol, 2)\n",
        "# morgan_fp_bit = GetMorganFingerprintAsBitVect(mol, 2, nBits=2048)"
      ],
      "metadata": {
        "id": "JHtrY6zdbPGg"
      },
      "execution_count": 122,
      "outputs": []
    },
    {
      "cell_type": "code",
      "source": [
        " morgan_fp"
      ],
      "metadata": {
        "id": "r7NnaNumbTG4",
        "outputId": "ceca4e6f-631a-4357-b2ae-50b43342a936",
        "colab": {
          "base_uri": "https://localhost:8080/"
        }
      },
      "execution_count": 123,
      "outputs": [
        {
          "output_type": "execute_result",
          "data": {
            "text/plain": [
              "<rdkit.DataStructs.cDataStructs.UIntSparseIntVect at 0x7fc5003832b0>"
            ]
          },
          "metadata": {},
          "execution_count": 123
        }
      ]
    },
    {
      "cell_type": "code",
      "source": [
        "df['fp_morgan'] = df.ROMol.apply(lambda x: AllChem.GetMorganFingerprint(x, 2))"
      ],
      "metadata": {
        "id": "MN55KcSKdTtw"
      },
      "execution_count": 124,
      "outputs": []
    },
    {
      "cell_type": "code",
      "source": [
        "df.head(1)"
      ],
      "metadata": {
        "id": "vtyYROeedVqb",
        "outputId": "e4676751-cbd0-4460-b81d-e72fe9b36fea",
        "colab": {
          "base_uri": "https://localhost:8080/",
          "height": 312
        }
      },
      "execution_count": 126,
      "outputs": [
        {
          "output_type": "execute_result",
          "data": {
            "text/plain": [
              "                                     molecule_smiles molecule_names  \\\n",
              "0  CC1C2C(C3C(C(=O)C(=C(C3(C(=O)C2=C(C4=C1C=CC=C4...    Doxycycline   \n",
              "\n",
              "                                               ROMol  \\\n",
              "0  <img data-content=\"rdkit/molecule\" src=\"data:i...   \n",
              "\n",
              "                                           fp_morgan  \n",
              "0  <rdkit.DataStructs.cDataStructs.UIntSparseIntV...  "
            ],
            "text/html": [
              "\n",
              "  <div id=\"df-87e3c185-d789-4a79-9752-2e9bdc37a6fa\">\n",
              "    <div class=\"colab-df-container\">\n",
              "      <div>\n",
              "<style scoped>\n",
              "    .dataframe tbody tr th:only-of-type {\n",
              "        vertical-align: middle;\n",
              "    }\n",
              "\n",
              "    .dataframe tbody tr th {\n",
              "        vertical-align: top;\n",
              "    }\n",
              "\n",
              "    .dataframe thead th {\n",
              "        text-align: right;\n",
              "    }\n",
              "</style>\n",
              "<table border=\"1\" class=\"dataframe\">\n",
              "  <thead>\n",
              "    <tr style=\"text-align: right;\">\n",
              "      <th></th>\n",
              "      <th>molecule_smiles</th>\n",
              "      <th>molecule_names</th>\n",
              "      <th>ROMol</th>\n",
              "      <th>fp_morgan</th>\n",
              "    </tr>\n",
              "  </thead>\n",
              "  <tbody>\n",
              "    <tr>\n",
              "      <th>0</th>\n",
              "      <td>CC1C2C(C3C(C(=O)C(=C(C3(C(=O)C2=C(C4=C1C=CC=C4...</td>\n",
              "      <td>Doxycycline</td>\n",
              "      <td style=\"text-align: center;\"><img data-content=\"rdkit/molecule\" src=\"data:image/png;base64,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\" alt=\"Mol\"/></td>\n",
              "      <td>&lt;rdkit.DataStructs.cDataStructs.UIntSparseIntV...</td>\n",
              "    </tr>\n",
              "  </tbody>\n",
              "</table>\n",
              "</div>\n",
              "      <button class=\"colab-df-convert\" onclick=\"convertToInteractive('df-87e3c185-d789-4a79-9752-2e9bdc37a6fa')\"\n",
              "              title=\"Convert this dataframe to an interactive table.\"\n",
              "              style=\"display:none;\">\n",
              "        \n",
              "  <svg xmlns=\"http://www.w3.org/2000/svg\" height=\"24px\"viewBox=\"0 0 24 24\"\n",
              "       width=\"24px\">\n",
              "    <path d=\"M0 0h24v24H0V0z\" fill=\"none\"/>\n",
              "    <path d=\"M18.56 5.44l.94 2.06.94-2.06 2.06-.94-2.06-.94-.94-2.06-.94 2.06-2.06.94zm-11 1L8.5 8.5l.94-2.06 2.06-.94-2.06-.94L8.5 2.5l-.94 2.06-2.06.94zm10 10l.94 2.06.94-2.06 2.06-.94-2.06-.94-.94-2.06-.94 2.06-2.06.94z\"/><path d=\"M17.41 7.96l-1.37-1.37c-.4-.4-.92-.59-1.43-.59-.52 0-1.04.2-1.43.59L10.3 9.45l-7.72 7.72c-.78.78-.78 2.05 0 2.83L4 21.41c.39.39.9.59 1.41.59.51 0 1.02-.2 1.41-.59l7.78-7.78 2.81-2.81c.8-.78.8-2.07 0-2.86zM5.41 20L4 18.59l7.72-7.72 1.47 1.35L5.41 20z\"/>\n",
              "  </svg>\n",
              "      </button>\n",
              "      \n",
              "  <style>\n",
              "    .colab-df-container {\n",
              "      display:flex;\n",
              "      flex-wrap:wrap;\n",
              "      gap: 12px;\n",
              "    }\n",
              "\n",
              "    .colab-df-convert {\n",
              "      background-color: #E8F0FE;\n",
              "      border: none;\n",
              "      border-radius: 50%;\n",
              "      cursor: pointer;\n",
              "      display: none;\n",
              "      fill: #1967D2;\n",
              "      height: 32px;\n",
              "      padding: 0 0 0 0;\n",
              "      width: 32px;\n",
              "    }\n",
              "\n",
              "    .colab-df-convert:hover {\n",
              "      background-color: #E2EBFA;\n",
              "      box-shadow: 0px 1px 2px rgba(60, 64, 67, 0.3), 0px 1px 3px 1px rgba(60, 64, 67, 0.15);\n",
              "      fill: #174EA6;\n",
              "    }\n",
              "\n",
              "    [theme=dark] .colab-df-convert {\n",
              "      background-color: #3B4455;\n",
              "      fill: #D2E3FC;\n",
              "    }\n",
              "\n",
              "    [theme=dark] .colab-df-convert:hover {\n",
              "      background-color: #434B5C;\n",
              "      box-shadow: 0px 1px 3px 1px rgba(0, 0, 0, 0.15);\n",
              "      filter: drop-shadow(0px 1px 2px rgba(0, 0, 0, 0.3));\n",
              "      fill: #FFFFFF;\n",
              "    }\n",
              "  </style>\n",
              "\n",
              "      <script>\n",
              "        const buttonEl =\n",
              "          document.querySelector('#df-87e3c185-d789-4a79-9752-2e9bdc37a6fa button.colab-df-convert');\n",
              "        buttonEl.style.display =\n",
              "          google.colab.kernel.accessAllowed ? 'block' : 'none';\n",
              "\n",
              "        async function convertToInteractive(key) {\n",
              "          const element = document.querySelector('#df-87e3c185-d789-4a79-9752-2e9bdc37a6fa');\n",
              "          const dataTable =\n",
              "            await google.colab.kernel.invokeFunction('convertToInteractive',\n",
              "                                                     [key], {});\n",
              "          if (!dataTable) return;\n",
              "\n",
              "          const docLinkHtml = 'Like what you see? Visit the ' +\n",
              "            '<a target=\"_blank\" href=https://colab.research.google.com/notebooks/data_table.ipynb>data table notebook</a>'\n",
              "            + ' to learn more about interactive tables.';\n",
              "          element.innerHTML = '';\n",
              "          dataTable['output_type'] = 'display_data';\n",
              "          await google.colab.output.renderOutput(dataTable, element);\n",
              "          const docLink = document.createElement('div');\n",
              "          docLink.innerHTML = docLinkHtml;\n",
              "          element.appendChild(docLink);\n",
              "        }\n",
              "      </script>\n",
              "    </div>\n",
              "  </div>\n",
              "  "
            ]
          },
          "metadata": {},
          "execution_count": 126
        }
      ]
    },
    {
      "cell_type": "code",
      "source": [
        "mol_query = df[\"fp_morgan\"][0]\n",
        "mol_fp_list = df[\"fp_morgan\"].to_list()\n",
        "# Calculate similarty values between query and list elements\n",
        "df[\"tanimoto\"] = DataStructs.BulkTanimotoSimilarity(mol_query, mol_fp_list)\n",
        "df[\"dice\"] = DataStructs.BulkDiceSimilarity(mol_query, mol_fp_list)"
      ],
      "metadata": {
        "id": "b8E9Gs4LeRw-"
      },
      "execution_count": 135,
      "outputs": []
    },
    {
      "cell_type": "code",
      "source": [
        "df[['tanimoto', 'dice']]"
      ],
      "metadata": {
        "id": "gS4LSrN8fG4p",
        "outputId": "5c4769d1-0d24-4360-beb6-55dbd7d1cbd2",
        "colab": {
          "base_uri": "https://localhost:8080/",
          "height": 300
        }
      },
      "execution_count": 137,
      "outputs": [
        {
          "output_type": "execute_result",
          "data": {
            "text/plain": [
              "   tanimoto      dice\n",
              "0  1.000000  1.000000\n",
              "1  0.188976  0.317881\n",
              "2  0.137097  0.241135\n",
              "3  0.036585  0.070588\n",
              "4  0.084034  0.155039\n",
              "5  0.075188  0.139860\n",
              "6  0.631068  0.773810\n",
              "7  0.322917  0.488189"
            ],
            "text/html": [
              "\n",
              "  <div id=\"df-bfd19ae7-10c1-4216-87dc-231aec4d4c5b\">\n",
              "    <div class=\"colab-df-container\">\n",
              "      <div>\n",
              "<style scoped>\n",
              "    .dataframe tbody tr th:only-of-type {\n",
              "        vertical-align: middle;\n",
              "    }\n",
              "\n",
              "    .dataframe tbody tr th {\n",
              "        vertical-align: top;\n",
              "    }\n",
              "\n",
              "    .dataframe thead th {\n",
              "        text-align: right;\n",
              "    }\n",
              "</style>\n",
              "<table border=\"1\" class=\"dataframe\">\n",
              "  <thead>\n",
              "    <tr style=\"text-align: right;\">\n",
              "      <th></th>\n",
              "      <th>tanimoto</th>\n",
              "      <th>dice</th>\n",
              "    </tr>\n",
              "  </thead>\n",
              "  <tbody>\n",
              "    <tr>\n",
              "      <th>0</th>\n",
              "      <td>1.000000</td>\n",
              "      <td>1.000000</td>\n",
              "    </tr>\n",
              "    <tr>\n",
              "      <th>1</th>\n",
              "      <td>0.188976</td>\n",
              "      <td>0.317881</td>\n",
              "    </tr>\n",
              "    <tr>\n",
              "      <th>2</th>\n",
              "      <td>0.137097</td>\n",
              "      <td>0.241135</td>\n",
              "    </tr>\n",
              "    <tr>\n",
              "      <th>3</th>\n",
              "      <td>0.036585</td>\n",
              "      <td>0.070588</td>\n",
              "    </tr>\n",
              "    <tr>\n",
              "      <th>4</th>\n",
              "      <td>0.084034</td>\n",
              "      <td>0.155039</td>\n",
              "    </tr>\n",
              "    <tr>\n",
              "      <th>5</th>\n",
              "      <td>0.075188</td>\n",
              "      <td>0.139860</td>\n",
              "    </tr>\n",
              "    <tr>\n",
              "      <th>6</th>\n",
              "      <td>0.631068</td>\n",
              "      <td>0.773810</td>\n",
              "    </tr>\n",
              "    <tr>\n",
              "      <th>7</th>\n",
              "      <td>0.322917</td>\n",
              "      <td>0.488189</td>\n",
              "    </tr>\n",
              "  </tbody>\n",
              "</table>\n",
              "</div>\n",
              "      <button class=\"colab-df-convert\" onclick=\"convertToInteractive('df-bfd19ae7-10c1-4216-87dc-231aec4d4c5b')\"\n",
              "              title=\"Convert this dataframe to an interactive table.\"\n",
              "              style=\"display:none;\">\n",
              "        \n",
              "  <svg xmlns=\"http://www.w3.org/2000/svg\" height=\"24px\"viewBox=\"0 0 24 24\"\n",
              "       width=\"24px\">\n",
              "    <path d=\"M0 0h24v24H0V0z\" fill=\"none\"/>\n",
              "    <path d=\"M18.56 5.44l.94 2.06.94-2.06 2.06-.94-2.06-.94-.94-2.06-.94 2.06-2.06.94zm-11 1L8.5 8.5l.94-2.06 2.06-.94-2.06-.94L8.5 2.5l-.94 2.06-2.06.94zm10 10l.94 2.06.94-2.06 2.06-.94-2.06-.94-.94-2.06-.94 2.06-2.06.94z\"/><path d=\"M17.41 7.96l-1.37-1.37c-.4-.4-.92-.59-1.43-.59-.52 0-1.04.2-1.43.59L10.3 9.45l-7.72 7.72c-.78.78-.78 2.05 0 2.83L4 21.41c.39.39.9.59 1.41.59.51 0 1.02-.2 1.41-.59l7.78-7.78 2.81-2.81c.8-.78.8-2.07 0-2.86zM5.41 20L4 18.59l7.72-7.72 1.47 1.35L5.41 20z\"/>\n",
              "  </svg>\n",
              "      </button>\n",
              "      \n",
              "  <style>\n",
              "    .colab-df-container {\n",
              "      display:flex;\n",
              "      flex-wrap:wrap;\n",
              "      gap: 12px;\n",
              "    }\n",
              "\n",
              "    .colab-df-convert {\n",
              "      background-color: #E8F0FE;\n",
              "      border: none;\n",
              "      border-radius: 50%;\n",
              "      cursor: pointer;\n",
              "      display: none;\n",
              "      fill: #1967D2;\n",
              "      height: 32px;\n",
              "      padding: 0 0 0 0;\n",
              "      width: 32px;\n",
              "    }\n",
              "\n",
              "    .colab-df-convert:hover {\n",
              "      background-color: #E2EBFA;\n",
              "      box-shadow: 0px 1px 2px rgba(60, 64, 67, 0.3), 0px 1px 3px 1px rgba(60, 64, 67, 0.15);\n",
              "      fill: #174EA6;\n",
              "    }\n",
              "\n",
              "    [theme=dark] .colab-df-convert {\n",
              "      background-color: #3B4455;\n",
              "      fill: #D2E3FC;\n",
              "    }\n",
              "\n",
              "    [theme=dark] .colab-df-convert:hover {\n",
              "      background-color: #434B5C;\n",
              "      box-shadow: 0px 1px 3px 1px rgba(0, 0, 0, 0.15);\n",
              "      filter: drop-shadow(0px 1px 2px rgba(0, 0, 0, 0.3));\n",
              "      fill: #FFFFFF;\n",
              "    }\n",
              "  </style>\n",
              "\n",
              "      <script>\n",
              "        const buttonEl =\n",
              "          document.querySelector('#df-bfd19ae7-10c1-4216-87dc-231aec4d4c5b button.colab-df-convert');\n",
              "        buttonEl.style.display =\n",
              "          google.colab.kernel.accessAllowed ? 'block' : 'none';\n",
              "\n",
              "        async function convertToInteractive(key) {\n",
              "          const element = document.querySelector('#df-bfd19ae7-10c1-4216-87dc-231aec4d4c5b');\n",
              "          const dataTable =\n",
              "            await google.colab.kernel.invokeFunction('convertToInteractive',\n",
              "                                                     [key], {});\n",
              "          if (!dataTable) return;\n",
              "\n",
              "          const docLinkHtml = 'Like what you see? Visit the ' +\n",
              "            '<a target=\"_blank\" href=https://colab.research.google.com/notebooks/data_table.ipynb>data table notebook</a>'\n",
              "            + ' to learn more about interactive tables.';\n",
              "          element.innerHTML = '';\n",
              "          dataTable['output_type'] = 'display_data';\n",
              "          await google.colab.output.renderOutput(dataTable, element);\n",
              "          const docLink = document.createElement('div');\n",
              "          docLink.innerHTML = docLinkHtml;\n",
              "          element.appendChild(docLink);\n",
              "        }\n",
              "      </script>\n",
              "    </div>\n",
              "  </div>\n",
              "  "
            ]
          },
          "metadata": {},
          "execution_count": 137
        }
      ]
    },
    {
      "cell_type": "markdown",
      "source": [
        "## Compound clustering"
      ],
      "metadata": {
        "id": "71qTshRTfJpK"
      }
    },
    {
      "cell_type": "code",
      "source": [
        "df = pd.read_csv('target_molecule_df.csv')\n",
        "df.head()"
      ],
      "metadata": {
        "id": "ftuBNc2sfNyQ",
        "outputId": "db24071d-98cc-4cf1-adf4-8efc03e35fcf",
        "colab": {
          "base_uri": "https://localhost:8080/",
          "height": 288
        }
      },
      "execution_count": 138,
      "outputs": [
        {
          "output_type": "execute_result",
          "data": {
            "text/plain": [
              "  assay_chembl_id                                 canonical_smiles  \\\n",
              "0    CHEMBL829584           Cc1noc(C)c1CN1C(=O)C(=O)c2cc(C#N)ccc21   \n",
              "1    CHEMBL829584           O=C1C(=O)N(Cc2ccc(F)cc2Cl)c2ccc(I)cc21   \n",
              "2    CHEMBL830868          O=C1C(=O)N(CC2COc3ccccc3O2)c2ccc(I)cc21   \n",
              "3    CHEMBL829584              O=C1C(=O)N(Cc2cc3ccccc3s2)c2ccccc21   \n",
              "4    CHEMBL829584  O=C1C(=O)N(Cc2cc3ccccc3s2)c2c1cccc2[N+](=O)[O-]   \n",
              "\n",
              "        activity molecule_chembl_id     pIC50       Mw  HBA  HBD     logP  \\\n",
              "0  intermediated       CHEMBL187579  5.142668  281.271    5    0  1.89262   \n",
              "1  intermediated       CHEMBL188487  5.026872  415.589    2    0  3.81320   \n",
              "2       inactive       CHEMBL185698  4.869666  421.190    4    0  2.66050   \n",
              "3       inactive       CHEMBL426082  4.882397  293.347    3    0  3.63080   \n",
              "4  intermediated       CHEMBL187717  5.698970  338.344    5    0  3.53900   \n",
              "\n",
              "   linpinski_satisfied  \n",
              "0                 True  \n",
              "1                 True  \n",
              "2                 True  \n",
              "3                 True  \n",
              "4                 True  "
            ],
            "text/html": [
              "\n",
              "  <div id=\"df-c3be4553-4173-4aeb-9e77-c05901cf8e63\">\n",
              "    <div class=\"colab-df-container\">\n",
              "      <div>\n",
              "<style scoped>\n",
              "    .dataframe tbody tr th:only-of-type {\n",
              "        vertical-align: middle;\n",
              "    }\n",
              "\n",
              "    .dataframe tbody tr th {\n",
              "        vertical-align: top;\n",
              "    }\n",
              "\n",
              "    .dataframe thead th {\n",
              "        text-align: right;\n",
              "    }\n",
              "</style>\n",
              "<table border=\"1\" class=\"dataframe\">\n",
              "  <thead>\n",
              "    <tr style=\"text-align: right;\">\n",
              "      <th></th>\n",
              "      <th>assay_chembl_id</th>\n",
              "      <th>canonical_smiles</th>\n",
              "      <th>activity</th>\n",
              "      <th>molecule_chembl_id</th>\n",
              "      <th>pIC50</th>\n",
              "      <th>Mw</th>\n",
              "      <th>HBA</th>\n",
              "      <th>HBD</th>\n",
              "      <th>logP</th>\n",
              "      <th>linpinski_satisfied</th>\n",
              "    </tr>\n",
              "  </thead>\n",
              "  <tbody>\n",
              "    <tr>\n",
              "      <th>0</th>\n",
              "      <td>CHEMBL829584</td>\n",
              "      <td>Cc1noc(C)c1CN1C(=O)C(=O)c2cc(C#N)ccc21</td>\n",
              "      <td>intermediated</td>\n",
              "      <td>CHEMBL187579</td>\n",
              "      <td>5.142668</td>\n",
              "      <td>281.271</td>\n",
              "      <td>5</td>\n",
              "      <td>0</td>\n",
              "      <td>1.89262</td>\n",
              "      <td>True</td>\n",
              "    </tr>\n",
              "    <tr>\n",
              "      <th>1</th>\n",
              "      <td>CHEMBL829584</td>\n",
              "      <td>O=C1C(=O)N(Cc2ccc(F)cc2Cl)c2ccc(I)cc21</td>\n",
              "      <td>intermediated</td>\n",
              "      <td>CHEMBL188487</td>\n",
              "      <td>5.026872</td>\n",
              "      <td>415.589</td>\n",
              "      <td>2</td>\n",
              "      <td>0</td>\n",
              "      <td>3.81320</td>\n",
              "      <td>True</td>\n",
              "    </tr>\n",
              "    <tr>\n",
              "      <th>2</th>\n",
              "      <td>CHEMBL830868</td>\n",
              "      <td>O=C1C(=O)N(CC2COc3ccccc3O2)c2ccc(I)cc21</td>\n",
              "      <td>inactive</td>\n",
              "      <td>CHEMBL185698</td>\n",
              "      <td>4.869666</td>\n",
              "      <td>421.190</td>\n",
              "      <td>4</td>\n",
              "      <td>0</td>\n",
              "      <td>2.66050</td>\n",
              "      <td>True</td>\n",
              "    </tr>\n",
              "    <tr>\n",
              "      <th>3</th>\n",
              "      <td>CHEMBL829584</td>\n",
              "      <td>O=C1C(=O)N(Cc2cc3ccccc3s2)c2ccccc21</td>\n",
              "      <td>inactive</td>\n",
              "      <td>CHEMBL426082</td>\n",
              "      <td>4.882397</td>\n",
              "      <td>293.347</td>\n",
              "      <td>3</td>\n",
              "      <td>0</td>\n",
              "      <td>3.63080</td>\n",
              "      <td>True</td>\n",
              "    </tr>\n",
              "    <tr>\n",
              "      <th>4</th>\n",
              "      <td>CHEMBL829584</td>\n",
              "      <td>O=C1C(=O)N(Cc2cc3ccccc3s2)c2c1cccc2[N+](=O)[O-]</td>\n",
              "      <td>intermediated</td>\n",
              "      <td>CHEMBL187717</td>\n",
              "      <td>5.698970</td>\n",
              "      <td>338.344</td>\n",
              "      <td>5</td>\n",
              "      <td>0</td>\n",
              "      <td>3.53900</td>\n",
              "      <td>True</td>\n",
              "    </tr>\n",
              "  </tbody>\n",
              "</table>\n",
              "</div>\n",
              "      <button class=\"colab-df-convert\" onclick=\"convertToInteractive('df-c3be4553-4173-4aeb-9e77-c05901cf8e63')\"\n",
              "              title=\"Convert this dataframe to an interactive table.\"\n",
              "              style=\"display:none;\">\n",
              "        \n",
              "  <svg xmlns=\"http://www.w3.org/2000/svg\" height=\"24px\"viewBox=\"0 0 24 24\"\n",
              "       width=\"24px\">\n",
              "    <path d=\"M0 0h24v24H0V0z\" fill=\"none\"/>\n",
              "    <path d=\"M18.56 5.44l.94 2.06.94-2.06 2.06-.94-2.06-.94-.94-2.06-.94 2.06-2.06.94zm-11 1L8.5 8.5l.94-2.06 2.06-.94-2.06-.94L8.5 2.5l-.94 2.06-2.06.94zm10 10l.94 2.06.94-2.06 2.06-.94-2.06-.94-.94-2.06-.94 2.06-2.06.94z\"/><path d=\"M17.41 7.96l-1.37-1.37c-.4-.4-.92-.59-1.43-.59-.52 0-1.04.2-1.43.59L10.3 9.45l-7.72 7.72c-.78.78-.78 2.05 0 2.83L4 21.41c.39.39.9.59 1.41.59.51 0 1.02-.2 1.41-.59l7.78-7.78 2.81-2.81c.8-.78.8-2.07 0-2.86zM5.41 20L4 18.59l7.72-7.72 1.47 1.35L5.41 20z\"/>\n",
              "  </svg>\n",
              "      </button>\n",
              "      \n",
              "  <style>\n",
              "    .colab-df-container {\n",
              "      display:flex;\n",
              "      flex-wrap:wrap;\n",
              "      gap: 12px;\n",
              "    }\n",
              "\n",
              "    .colab-df-convert {\n",
              "      background-color: #E8F0FE;\n",
              "      border: none;\n",
              "      border-radius: 50%;\n",
              "      cursor: pointer;\n",
              "      display: none;\n",
              "      fill: #1967D2;\n",
              "      height: 32px;\n",
              "      padding: 0 0 0 0;\n",
              "      width: 32px;\n",
              "    }\n",
              "\n",
              "    .colab-df-convert:hover {\n",
              "      background-color: #E2EBFA;\n",
              "      box-shadow: 0px 1px 2px rgba(60, 64, 67, 0.3), 0px 1px 3px 1px rgba(60, 64, 67, 0.15);\n",
              "      fill: #174EA6;\n",
              "    }\n",
              "\n",
              "    [theme=dark] .colab-df-convert {\n",
              "      background-color: #3B4455;\n",
              "      fill: #D2E3FC;\n",
              "    }\n",
              "\n",
              "    [theme=dark] .colab-df-convert:hover {\n",
              "      background-color: #434B5C;\n",
              "      box-shadow: 0px 1px 3px 1px rgba(0, 0, 0, 0.15);\n",
              "      filter: drop-shadow(0px 1px 2px rgba(0, 0, 0, 0.3));\n",
              "      fill: #FFFFFF;\n",
              "    }\n",
              "  </style>\n",
              "\n",
              "      <script>\n",
              "        const buttonEl =\n",
              "          document.querySelector('#df-c3be4553-4173-4aeb-9e77-c05901cf8e63 button.colab-df-convert');\n",
              "        buttonEl.style.display =\n",
              "          google.colab.kernel.accessAllowed ? 'block' : 'none';\n",
              "\n",
              "        async function convertToInteractive(key) {\n",
              "          const element = document.querySelector('#df-c3be4553-4173-4aeb-9e77-c05901cf8e63');\n",
              "          const dataTable =\n",
              "            await google.colab.kernel.invokeFunction('convertToInteractive',\n",
              "                                                     [key], {});\n",
              "          if (!dataTable) return;\n",
              "\n",
              "          const docLinkHtml = 'Like what you see? Visit the ' +\n",
              "            '<a target=\"_blank\" href=https://colab.research.google.com/notebooks/data_table.ipynb>data table notebook</a>'\n",
              "            + ' to learn more about interactive tables.';\n",
              "          element.innerHTML = '';\n",
              "          dataTable['output_type'] = 'display_data';\n",
              "          await google.colab.output.renderOutput(dataTable, element);\n",
              "          const docLink = document.createElement('div');\n",
              "          docLink.innerHTML = docLinkHtml;\n",
              "          element.appendChild(docLink);\n",
              "        }\n",
              "      </script>\n",
              "    </div>\n",
              "  </div>\n",
              "  "
            ]
          },
          "metadata": {},
          "execution_count": 138
        }
      ]
    },
    {
      "cell_type": "code",
      "source": [
        "df['Mol'] = df.canonical_smiles.apply(Chem.MolFromSmiles)\n",
        "df['fp_morgan'] = df.Mol.apply(lambda x: AllChem.GetMorganFingerprint(x, 2))\n",
        "df.head(1) "
      ],
      "metadata": {
        "id": "p93bplZ5k71f",
        "outputId": "523e780a-2c2e-4d97-bedb-abdb4824dcd2",
        "colab": {
          "base_uri": "https://localhost:8080/",
          "height": 332
        }
      },
      "execution_count": 140,
      "outputs": [
        {
          "output_type": "execute_result",
          "data": {
            "text/plain": [
              "  assay_chembl_id                        canonical_smiles       activity  \\\n",
              "0    CHEMBL829584  Cc1noc(C)c1CN1C(=O)C(=O)c2cc(C#N)ccc21  intermediated   \n",
              "\n",
              "  molecule_chembl_id     pIC50       Mw  HBA  HBD     logP  \\\n",
              "0       CHEMBL187579  5.142668  281.271    5    0  1.89262   \n",
              "\n",
              "   linpinski_satisfied                                                Mol  \\\n",
              "0                 True  <img data-content=\"rdkit/molecule\" src=\"data:i...   \n",
              "\n",
              "                                           fp_morgan  \n",
              "0  <rdkit.DataStructs.cDataStructs.UIntSparseIntV...  "
            ],
            "text/html": [
              "\n",
              "  <div id=\"df-82341109-5738-42c4-9169-deff1d2d8f29\">\n",
              "    <div class=\"colab-df-container\">\n",
              "      <div>\n",
              "<style scoped>\n",
              "    .dataframe tbody tr th:only-of-type {\n",
              "        vertical-align: middle;\n",
              "    }\n",
              "\n",
              "    .dataframe tbody tr th {\n",
              "        vertical-align: top;\n",
              "    }\n",
              "\n",
              "    .dataframe thead th {\n",
              "        text-align: right;\n",
              "    }\n",
              "</style>\n",
              "<table border=\"1\" class=\"dataframe\">\n",
              "  <thead>\n",
              "    <tr style=\"text-align: right;\">\n",
              "      <th></th>\n",
              "      <th>assay_chembl_id</th>\n",
              "      <th>canonical_smiles</th>\n",
              "      <th>activity</th>\n",
              "      <th>molecule_chembl_id</th>\n",
              "      <th>pIC50</th>\n",
              "      <th>Mw</th>\n",
              "      <th>HBA</th>\n",
              "      <th>HBD</th>\n",
              "      <th>logP</th>\n",
              "      <th>linpinski_satisfied</th>\n",
              "      <th>Mol</th>\n",
              "      <th>fp_morgan</th>\n",
              "    </tr>\n",
              "  </thead>\n",
              "  <tbody>\n",
              "    <tr>\n",
              "      <th>0</th>\n",
              "      <td>CHEMBL829584</td>\n",
              "      <td>Cc1noc(C)c1CN1C(=O)C(=O)c2cc(C#N)ccc21</td>\n",
              "      <td>intermediated</td>\n",
              "      <td>CHEMBL187579</td>\n",
              "      <td>5.142668</td>\n",
              "      <td>281.271</td>\n",
              "      <td>5</td>\n",
              "      <td>0</td>\n",
              "      <td>1.89262</td>\n",
              "      <td>True</td>\n",
              "      <td style=\"text-align: center;\"><img data-content=\"rdkit/molecule\" src=\"data:image/png;base64,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\" alt=\"Mol\"/></td>\n",
              "      <td>&lt;rdkit.DataStructs.cDataStructs.UIntSparseIntV...</td>\n",
              "    </tr>\n",
              "  </tbody>\n",
              "</table>\n",
              "</div>\n",
              "      <button class=\"colab-df-convert\" onclick=\"convertToInteractive('df-82341109-5738-42c4-9169-deff1d2d8f29')\"\n",
              "              title=\"Convert this dataframe to an interactive table.\"\n",
              "              style=\"display:none;\">\n",
              "        \n",
              "  <svg xmlns=\"http://www.w3.org/2000/svg\" height=\"24px\"viewBox=\"0 0 24 24\"\n",
              "       width=\"24px\">\n",
              "    <path d=\"M0 0h24v24H0V0z\" fill=\"none\"/>\n",
              "    <path d=\"M18.56 5.44l.94 2.06.94-2.06 2.06-.94-2.06-.94-.94-2.06-.94 2.06-2.06.94zm-11 1L8.5 8.5l.94-2.06 2.06-.94-2.06-.94L8.5 2.5l-.94 2.06-2.06.94zm10 10l.94 2.06.94-2.06 2.06-.94-2.06-.94-.94-2.06-.94 2.06-2.06.94z\"/><path d=\"M17.41 7.96l-1.37-1.37c-.4-.4-.92-.59-1.43-.59-.52 0-1.04.2-1.43.59L10.3 9.45l-7.72 7.72c-.78.78-.78 2.05 0 2.83L4 21.41c.39.39.9.59 1.41.59.51 0 1.02-.2 1.41-.59l7.78-7.78 2.81-2.81c.8-.78.8-2.07 0-2.86zM5.41 20L4 18.59l7.72-7.72 1.47 1.35L5.41 20z\"/>\n",
              "  </svg>\n",
              "      </button>\n",
              "      \n",
              "  <style>\n",
              "    .colab-df-container {\n",
              "      display:flex;\n",
              "      flex-wrap:wrap;\n",
              "      gap: 12px;\n",
              "    }\n",
              "\n",
              "    .colab-df-convert {\n",
              "      background-color: #E8F0FE;\n",
              "      border: none;\n",
              "      border-radius: 50%;\n",
              "      cursor: pointer;\n",
              "      display: none;\n",
              "      fill: #1967D2;\n",
              "      height: 32px;\n",
              "      padding: 0 0 0 0;\n",
              "      width: 32px;\n",
              "    }\n",
              "\n",
              "    .colab-df-convert:hover {\n",
              "      background-color: #E2EBFA;\n",
              "      box-shadow: 0px 1px 2px rgba(60, 64, 67, 0.3), 0px 1px 3px 1px rgba(60, 64, 67, 0.15);\n",
              "      fill: #174EA6;\n",
              "    }\n",
              "\n",
              "    [theme=dark] .colab-df-convert {\n",
              "      background-color: #3B4455;\n",
              "      fill: #D2E3FC;\n",
              "    }\n",
              "\n",
              "    [theme=dark] .colab-df-convert:hover {\n",
              "      background-color: #434B5C;\n",
              "      box-shadow: 0px 1px 3px 1px rgba(0, 0, 0, 0.15);\n",
              "      filter: drop-shadow(0px 1px 2px rgba(0, 0, 0, 0.3));\n",
              "      fill: #FFFFFF;\n",
              "    }\n",
              "  </style>\n",
              "\n",
              "      <script>\n",
              "        const buttonEl =\n",
              "          document.querySelector('#df-82341109-5738-42c4-9169-deff1d2d8f29 button.colab-df-convert');\n",
              "        buttonEl.style.display =\n",
              "          google.colab.kernel.accessAllowed ? 'block' : 'none';\n",
              "\n",
              "        async function convertToInteractive(key) {\n",
              "          const element = document.querySelector('#df-82341109-5738-42c4-9169-deff1d2d8f29');\n",
              "          const dataTable =\n",
              "            await google.colab.kernel.invokeFunction('convertToInteractive',\n",
              "                                                     [key], {});\n",
              "          if (!dataTable) return;\n",
              "\n",
              "          const docLinkHtml = 'Like what you see? Visit the ' +\n",
              "            '<a target=\"_blank\" href=https://colab.research.google.com/notebooks/data_table.ipynb>data table notebook</a>'\n",
              "            + ' to learn more about interactive tables.';\n",
              "          element.innerHTML = '';\n",
              "          dataTable['output_type'] = 'display_data';\n",
              "          await google.colab.output.renderOutput(dataTable, element);\n",
              "          const docLink = document.createElement('div');\n",
              "          docLink.innerHTML = docLinkHtml;\n",
              "          element.appendChild(docLink);\n",
              "        }\n",
              "      </script>\n",
              "    </div>\n",
              "  </div>\n",
              "  "
            ]
          },
          "metadata": {},
          "execution_count": 140
        }
      ]
    },
    {
      "cell_type": "code",
      "source": [
        "def tanimoto_dist_matrix(fp_list):\n",
        "    dissimilarity_matrix = []\n",
        "    for i in range(1, len(fp_list)):\n",
        "        similarities = DataStructs."
      ],
      "metadata": {
        "id": "2NzQdvD1k77a"
      },
      "execution_count": null,
      "outputs": []
    },
    {
      "cell_type": "code",
      "source": [
        "ㅠdef tanimoto_distance_matrix(fp_list):\n",
        "    \"\"\"Calculate distance matrix for fingerprint list\"\"\"\n",
        "    dissimilarity_matrix = []\n",
        "    # Notice how we are deliberately skipping the first and last items in the list\n",
        "    # because we don't need to compare them against themselves\n",
        "    for i in range(1, len(fp_list)):\n",
        "        # Compare the current fingerprint against all the previous ones in the list\n",
        "        similarities = DataStructs.BulkTanimotoSimilarity(fp_list[i], fp_list[:i])\n",
        "        # Since we need a distance matrix, calculate 1-x for every element in similarity matrix\n",
        "        dissimilarity_matrix.extend([1 - x for x in similarities])\n",
        "    return dissimilarity_matrix"
      ],
      "metadata": {
        "id": "HVjq2OdEk8Ar"
      },
      "execution_count": null,
      "outputs": []
    }
  ]
}